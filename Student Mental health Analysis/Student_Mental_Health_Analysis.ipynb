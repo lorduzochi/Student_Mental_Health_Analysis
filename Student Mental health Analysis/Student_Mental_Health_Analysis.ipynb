{
 "cells": [
  {
   "cell_type": "markdown",
   "id": "7af3d820-7fb8-47b9-91bb-7efe0c20a0fa",
   "metadata": {},
   "source": [
    "# About Dataset\n",
    "### A STATISTICAL ANALYSIS ON THE EFFECTS OF MENTAL HEALTH ON STUDENTS’ CGPA DATASET \n"
   ]
  },
  {
   "cell_type": "markdown",
   "id": "5cb9bd50-0e13-433b-9046-4ea8c2d0e97e",
   "metadata": {},
   "source": [
    "# Problem Statement\n",
    "\n",
    "This Dataset was collected through a survey with Google forms conducted on University student, \n",
    "in order to examine their current academic situation in respect to their mental health.\n",
    "\n",
    "The analysis focuses on employing the effect of the student's mental health on their CGPA\n",
    "  "
   ]
  },
  {
   "cell_type": "markdown",
   "id": "86f25d94-4c16-4324-ac97-6f5f5c8c15ce",
   "metadata": {},
   "source": [
    "# Importing Libraries"
   ]
  },
  {
   "cell_type": "code",
   "execution_count": 51,
   "id": "9b274f48-0184-4ce3-b176-1a5f60f16b51",
   "metadata": {},
   "outputs": [],
   "source": [
    "# Importing all the necessary Libraries.\n",
    "import pandas as pd\n",
    "import numpy as np\n",
    "import matplotlib.pyplot as plt\n",
    "import seaborn as sns\n"
   ]
  },
  {
   "cell_type": "markdown",
   "id": "8721b8b5-2ccb-4918-96be-c1e576cc2ace",
   "metadata": {},
   "source": [
    "### Collecting data"
   ]
  },
  {
   "cell_type": "code",
   "execution_count": 52,
   "id": "4a33fe85-cdaa-482c-883c-c8721508c9b3",
   "metadata": {},
   "outputs": [],
   "source": [
    "path = 'Student Mental health.csv'"
   ]
  },
  {
   "cell_type": "code",
   "execution_count": 53,
   "id": "df516b10-b802-4501-a38f-c7d2a753ed77",
   "metadata": {},
   "outputs": [
    {
     "data": {
      "text/html": [
       "<div>\n",
       "<style scoped>\n",
       "    .dataframe tbody tr th:only-of-type {\n",
       "        vertical-align: middle;\n",
       "    }\n",
       "\n",
       "    .dataframe tbody tr th {\n",
       "        vertical-align: top;\n",
       "    }\n",
       "\n",
       "    .dataframe thead th {\n",
       "        text-align: right;\n",
       "    }\n",
       "</style>\n",
       "<table border=\"1\" class=\"dataframe\">\n",
       "  <thead>\n",
       "    <tr style=\"text-align: right;\">\n",
       "      <th></th>\n",
       "      <th>Timestamp</th>\n",
       "      <th>Choose your gender</th>\n",
       "      <th>Age</th>\n",
       "      <th>What is your course?</th>\n",
       "      <th>Your current year of Study</th>\n",
       "      <th>What is your CGPA?</th>\n",
       "      <th>Marital status</th>\n",
       "      <th>Do you have Depression?</th>\n",
       "      <th>Do you have Anxiety?</th>\n",
       "      <th>Do you have Panic attack?</th>\n",
       "      <th>Did you seek any specialist for a treatment?</th>\n",
       "    </tr>\n",
       "  </thead>\n",
       "  <tbody>\n",
       "    <tr>\n",
       "      <th>0</th>\n",
       "      <td>8/7/2020 12:02</td>\n",
       "      <td>Female</td>\n",
       "      <td>18.0</td>\n",
       "      <td>Engineering</td>\n",
       "      <td>year 1</td>\n",
       "      <td>3.00 - 3.49</td>\n",
       "      <td>No</td>\n",
       "      <td>Yes</td>\n",
       "      <td>No</td>\n",
       "      <td>Yes</td>\n",
       "      <td>No</td>\n",
       "    </tr>\n",
       "    <tr>\n",
       "      <th>1</th>\n",
       "      <td>8/7/2020 12:04</td>\n",
       "      <td>Male</td>\n",
       "      <td>21.0</td>\n",
       "      <td>Islamic education</td>\n",
       "      <td>year 2</td>\n",
       "      <td>3.00 - 3.49</td>\n",
       "      <td>No</td>\n",
       "      <td>No</td>\n",
       "      <td>Yes</td>\n",
       "      <td>No</td>\n",
       "      <td>No</td>\n",
       "    </tr>\n",
       "    <tr>\n",
       "      <th>2</th>\n",
       "      <td>8/7/2020 12:05</td>\n",
       "      <td>Male</td>\n",
       "      <td>19.0</td>\n",
       "      <td>BIT</td>\n",
       "      <td>Year 1</td>\n",
       "      <td>3.00 - 3.49</td>\n",
       "      <td>No</td>\n",
       "      <td>Yes</td>\n",
       "      <td>Yes</td>\n",
       "      <td>Yes</td>\n",
       "      <td>No</td>\n",
       "    </tr>\n",
       "    <tr>\n",
       "      <th>3</th>\n",
       "      <td>8/7/2020 12:06</td>\n",
       "      <td>Female</td>\n",
       "      <td>22.0</td>\n",
       "      <td>Laws</td>\n",
       "      <td>year 3</td>\n",
       "      <td>3.00 - 3.49</td>\n",
       "      <td>Yes</td>\n",
       "      <td>Yes</td>\n",
       "      <td>No</td>\n",
       "      <td>No</td>\n",
       "      <td>No</td>\n",
       "    </tr>\n",
       "    <tr>\n",
       "      <th>4</th>\n",
       "      <td>8/7/2020 12:13</td>\n",
       "      <td>Male</td>\n",
       "      <td>23.0</td>\n",
       "      <td>Mathemathics</td>\n",
       "      <td>year 4</td>\n",
       "      <td>3.00 - 3.49</td>\n",
       "      <td>No</td>\n",
       "      <td>No</td>\n",
       "      <td>No</td>\n",
       "      <td>No</td>\n",
       "      <td>No</td>\n",
       "    </tr>\n",
       "  </tbody>\n",
       "</table>\n",
       "</div>"
      ],
      "text/plain": [
       "        Timestamp Choose your gender   Age What is your course?  \\\n",
       "0  8/7/2020 12:02             Female  18.0          Engineering   \n",
       "1  8/7/2020 12:04               Male  21.0    Islamic education   \n",
       "2  8/7/2020 12:05               Male  19.0                  BIT   \n",
       "3  8/7/2020 12:06             Female  22.0                 Laws   \n",
       "4  8/7/2020 12:13               Male  23.0         Mathemathics   \n",
       "\n",
       "  Your current year of Study What is your CGPA? Marital status  \\\n",
       "0                     year 1        3.00 - 3.49             No   \n",
       "1                     year 2        3.00 - 3.49             No   \n",
       "2                     Year 1        3.00 - 3.49             No   \n",
       "3                     year 3        3.00 - 3.49            Yes   \n",
       "4                     year 4        3.00 - 3.49             No   \n",
       "\n",
       "  Do you have Depression? Do you have Anxiety? Do you have Panic attack?  \\\n",
       "0                     Yes                   No                       Yes   \n",
       "1                      No                  Yes                        No   \n",
       "2                     Yes                  Yes                       Yes   \n",
       "3                     Yes                   No                        No   \n",
       "4                      No                   No                        No   \n",
       "\n",
       "  Did you seek any specialist for a treatment?  \n",
       "0                                           No  \n",
       "1                                           No  \n",
       "2                                           No  \n",
       "3                                           No  \n",
       "4                                           No  "
      ]
     },
     "execution_count": 53,
     "metadata": {},
     "output_type": "execute_result"
    }
   ],
   "source": [
    "df = pd.read_csv(path)\n",
    "df.head()"
   ]
  },
  {
   "cell_type": "markdown",
   "id": "5bddcf62-79ec-4b64-9518-e862067faa6c",
   "metadata": {},
   "source": [
    "### Understanding the dataset"
   ]
  },
  {
   "cell_type": "code",
   "execution_count": 54,
   "id": "f6f30f63-df5c-4bb5-9f26-3404d9e5df74",
   "metadata": {},
   "outputs": [
    {
     "data": {
      "text/html": [
       "<div>\n",
       "<style scoped>\n",
       "    .dataframe tbody tr th:only-of-type {\n",
       "        vertical-align: middle;\n",
       "    }\n",
       "\n",
       "    .dataframe tbody tr th {\n",
       "        vertical-align: top;\n",
       "    }\n",
       "\n",
       "    .dataframe thead th {\n",
       "        text-align: right;\n",
       "    }\n",
       "</style>\n",
       "<table border=\"1\" class=\"dataframe\">\n",
       "  <thead>\n",
       "    <tr style=\"text-align: right;\">\n",
       "      <th></th>\n",
       "      <th>Timestamp</th>\n",
       "      <th>Choose your gender</th>\n",
       "      <th>Age</th>\n",
       "      <th>What is your course?</th>\n",
       "      <th>Your current year of Study</th>\n",
       "      <th>What is your CGPA?</th>\n",
       "      <th>Marital status</th>\n",
       "      <th>Do you have Depression?</th>\n",
       "      <th>Do you have Anxiety?</th>\n",
       "      <th>Do you have Panic attack?</th>\n",
       "      <th>Did you seek any specialist for a treatment?</th>\n",
       "    </tr>\n",
       "  </thead>\n",
       "  <tbody>\n",
       "    <tr>\n",
       "      <th>count</th>\n",
       "      <td>101</td>\n",
       "      <td>101</td>\n",
       "      <td>100.00000</td>\n",
       "      <td>101</td>\n",
       "      <td>101</td>\n",
       "      <td>101</td>\n",
       "      <td>101</td>\n",
       "      <td>101</td>\n",
       "      <td>101</td>\n",
       "      <td>101</td>\n",
       "      <td>101</td>\n",
       "    </tr>\n",
       "    <tr>\n",
       "      <th>unique</th>\n",
       "      <td>92</td>\n",
       "      <td>2</td>\n",
       "      <td>NaN</td>\n",
       "      <td>49</td>\n",
       "      <td>7</td>\n",
       "      <td>6</td>\n",
       "      <td>2</td>\n",
       "      <td>2</td>\n",
       "      <td>2</td>\n",
       "      <td>2</td>\n",
       "      <td>2</td>\n",
       "    </tr>\n",
       "    <tr>\n",
       "      <th>top</th>\n",
       "      <td>8/7/2020 12:39</td>\n",
       "      <td>Female</td>\n",
       "      <td>NaN</td>\n",
       "      <td>BCS</td>\n",
       "      <td>year 1</td>\n",
       "      <td>3.50 - 4.00</td>\n",
       "      <td>No</td>\n",
       "      <td>No</td>\n",
       "      <td>No</td>\n",
       "      <td>No</td>\n",
       "      <td>No</td>\n",
       "    </tr>\n",
       "    <tr>\n",
       "      <th>freq</th>\n",
       "      <td>3</td>\n",
       "      <td>75</td>\n",
       "      <td>NaN</td>\n",
       "      <td>18</td>\n",
       "      <td>41</td>\n",
       "      <td>47</td>\n",
       "      <td>85</td>\n",
       "      <td>66</td>\n",
       "      <td>67</td>\n",
       "      <td>68</td>\n",
       "      <td>95</td>\n",
       "    </tr>\n",
       "    <tr>\n",
       "      <th>mean</th>\n",
       "      <td>NaN</td>\n",
       "      <td>NaN</td>\n",
       "      <td>20.53000</td>\n",
       "      <td>NaN</td>\n",
       "      <td>NaN</td>\n",
       "      <td>NaN</td>\n",
       "      <td>NaN</td>\n",
       "      <td>NaN</td>\n",
       "      <td>NaN</td>\n",
       "      <td>NaN</td>\n",
       "      <td>NaN</td>\n",
       "    </tr>\n",
       "    <tr>\n",
       "      <th>std</th>\n",
       "      <td>NaN</td>\n",
       "      <td>NaN</td>\n",
       "      <td>2.49628</td>\n",
       "      <td>NaN</td>\n",
       "      <td>NaN</td>\n",
       "      <td>NaN</td>\n",
       "      <td>NaN</td>\n",
       "      <td>NaN</td>\n",
       "      <td>NaN</td>\n",
       "      <td>NaN</td>\n",
       "      <td>NaN</td>\n",
       "    </tr>\n",
       "    <tr>\n",
       "      <th>min</th>\n",
       "      <td>NaN</td>\n",
       "      <td>NaN</td>\n",
       "      <td>18.00000</td>\n",
       "      <td>NaN</td>\n",
       "      <td>NaN</td>\n",
       "      <td>NaN</td>\n",
       "      <td>NaN</td>\n",
       "      <td>NaN</td>\n",
       "      <td>NaN</td>\n",
       "      <td>NaN</td>\n",
       "      <td>NaN</td>\n",
       "    </tr>\n",
       "    <tr>\n",
       "      <th>25%</th>\n",
       "      <td>NaN</td>\n",
       "      <td>NaN</td>\n",
       "      <td>18.00000</td>\n",
       "      <td>NaN</td>\n",
       "      <td>NaN</td>\n",
       "      <td>NaN</td>\n",
       "      <td>NaN</td>\n",
       "      <td>NaN</td>\n",
       "      <td>NaN</td>\n",
       "      <td>NaN</td>\n",
       "      <td>NaN</td>\n",
       "    </tr>\n",
       "    <tr>\n",
       "      <th>50%</th>\n",
       "      <td>NaN</td>\n",
       "      <td>NaN</td>\n",
       "      <td>19.00000</td>\n",
       "      <td>NaN</td>\n",
       "      <td>NaN</td>\n",
       "      <td>NaN</td>\n",
       "      <td>NaN</td>\n",
       "      <td>NaN</td>\n",
       "      <td>NaN</td>\n",
       "      <td>NaN</td>\n",
       "      <td>NaN</td>\n",
       "    </tr>\n",
       "    <tr>\n",
       "      <th>75%</th>\n",
       "      <td>NaN</td>\n",
       "      <td>NaN</td>\n",
       "      <td>23.00000</td>\n",
       "      <td>NaN</td>\n",
       "      <td>NaN</td>\n",
       "      <td>NaN</td>\n",
       "      <td>NaN</td>\n",
       "      <td>NaN</td>\n",
       "      <td>NaN</td>\n",
       "      <td>NaN</td>\n",
       "      <td>NaN</td>\n",
       "    </tr>\n",
       "    <tr>\n",
       "      <th>max</th>\n",
       "      <td>NaN</td>\n",
       "      <td>NaN</td>\n",
       "      <td>24.00000</td>\n",
       "      <td>NaN</td>\n",
       "      <td>NaN</td>\n",
       "      <td>NaN</td>\n",
       "      <td>NaN</td>\n",
       "      <td>NaN</td>\n",
       "      <td>NaN</td>\n",
       "      <td>NaN</td>\n",
       "      <td>NaN</td>\n",
       "    </tr>\n",
       "  </tbody>\n",
       "</table>\n",
       "</div>"
      ],
      "text/plain": [
       "             Timestamp Choose your gender        Age What is your course?  \\\n",
       "count              101                101  100.00000                  101   \n",
       "unique              92                  2        NaN                   49   \n",
       "top     8/7/2020 12:39             Female        NaN                  BCS   \n",
       "freq                 3                 75        NaN                   18   \n",
       "mean               NaN                NaN   20.53000                  NaN   \n",
       "std                NaN                NaN    2.49628                  NaN   \n",
       "min                NaN                NaN   18.00000                  NaN   \n",
       "25%                NaN                NaN   18.00000                  NaN   \n",
       "50%                NaN                NaN   19.00000                  NaN   \n",
       "75%                NaN                NaN   23.00000                  NaN   \n",
       "max                NaN                NaN   24.00000                  NaN   \n",
       "\n",
       "       Your current year of Study What is your CGPA? Marital status  \\\n",
       "count                         101                101            101   \n",
       "unique                          7                  6              2   \n",
       "top                        year 1        3.50 - 4.00             No   \n",
       "freq                           41                 47             85   \n",
       "mean                          NaN                NaN            NaN   \n",
       "std                           NaN                NaN            NaN   \n",
       "min                           NaN                NaN            NaN   \n",
       "25%                           NaN                NaN            NaN   \n",
       "50%                           NaN                NaN            NaN   \n",
       "75%                           NaN                NaN            NaN   \n",
       "max                           NaN                NaN            NaN   \n",
       "\n",
       "       Do you have Depression? Do you have Anxiety? Do you have Panic attack?  \\\n",
       "count                      101                  101                       101   \n",
       "unique                       2                    2                         2   \n",
       "top                         No                   No                        No   \n",
       "freq                        66                   67                        68   \n",
       "mean                       NaN                  NaN                       NaN   \n",
       "std                        NaN                  NaN                       NaN   \n",
       "min                        NaN                  NaN                       NaN   \n",
       "25%                        NaN                  NaN                       NaN   \n",
       "50%                        NaN                  NaN                       NaN   \n",
       "75%                        NaN                  NaN                       NaN   \n",
       "max                        NaN                  NaN                       NaN   \n",
       "\n",
       "       Did you seek any specialist for a treatment?  \n",
       "count                                           101  \n",
       "unique                                            2  \n",
       "top                                              No  \n",
       "freq                                             95  \n",
       "mean                                            NaN  \n",
       "std                                             NaN  \n",
       "min                                             NaN  \n",
       "25%                                             NaN  \n",
       "50%                                             NaN  \n",
       "75%                                             NaN  \n",
       "max                                             NaN  "
      ]
     },
     "execution_count": 54,
     "metadata": {},
     "output_type": "execute_result"
    }
   ],
   "source": [
    "df.describe(include=\"all\")"
   ]
  },
  {
   "cell_type": "code",
   "execution_count": 55,
   "id": "e4f19cbd-33e5-40a8-bc6a-629b25b9af7c",
   "metadata": {},
   "outputs": [
    {
     "name": "stdout",
     "output_type": "stream",
     "text": [
      "<class 'pandas.core.frame.DataFrame'>\n",
      "RangeIndex: 101 entries, 0 to 100\n",
      "Data columns (total 11 columns):\n",
      " #   Column                                        Non-Null Count  Dtype  \n",
      "---  ------                                        --------------  -----  \n",
      " 0   Timestamp                                     101 non-null    object \n",
      " 1   Choose your gender                            101 non-null    object \n",
      " 2   Age                                           100 non-null    float64\n",
      " 3   What is your course?                          101 non-null    object \n",
      " 4   Your current year of Study                    101 non-null    object \n",
      " 5   What is your CGPA?                            101 non-null    object \n",
      " 6   Marital status                                101 non-null    object \n",
      " 7   Do you have Depression?                       101 non-null    object \n",
      " 8   Do you have Anxiety?                          101 non-null    object \n",
      " 9   Do you have Panic attack?                     101 non-null    object \n",
      " 10  Did you seek any specialist for a treatment?  101 non-null    object \n",
      "dtypes: float64(1), object(10)\n",
      "memory usage: 8.8+ KB\n"
     ]
    }
   ],
   "source": [
    "# To know the data type, number of enteries on row, number of columns, names of columns, and the number of enteries on each columns. \n",
    "df.info()"
   ]
  },
  {
   "cell_type": "markdown",
   "id": "8932cb2b-6037-4482-aff5-47d267331b8b",
   "metadata": {},
   "source": [
    "## Data Cleaning"
   ]
  },
  {
   "cell_type": "code",
   "execution_count": 56,
   "id": "fa19988e-4be8-493f-b9d5-574f1a0dddad",
   "metadata": {},
   "outputs": [
    {
     "data": {
      "text/plain": [
       "Timestamp                                       0\n",
       "Choose your gender                              0\n",
       "Age                                             1\n",
       "What is your course?                            0\n",
       "Your current year of Study                      0\n",
       "What is your CGPA?                              0\n",
       "Marital status                                  0\n",
       "Do you have Depression?                         0\n",
       "Do you have Anxiety?                            0\n",
       "Do you have Panic attack?                       0\n",
       "Did you seek any specialist for a treatment?    0\n",
       "dtype: int64"
      ]
     },
     "execution_count": 56,
     "metadata": {},
     "output_type": "execute_result"
    }
   ],
   "source": [
    "# to check the number of missing cells in a column\n",
    "df.isnull().sum()"
   ]
  },
  {
   "cell_type": "code",
   "execution_count": 57,
   "id": "4cb2e66e-dbab-4aa1-a358-169df1122619",
   "metadata": {},
   "outputs": [
    {
     "data": {
      "image/png": "[encoded data removed]",
      "text/plain": [
       "<Figure size 640x480 with 2 Axes>"
      ]
     },
     "metadata": {},
     "output_type": "display_data"
    }
   ],
   "source": [
    "# using heatmap to check for empty column\n",
    "sns.heatmap(df.isnull(), yticklabels=False)\n",
    "plt.show()"
   ]
  },
  {
   "cell_type": "markdown",
   "id": "7f61bf26-4c54-46a9-bafc-f0413e58f16d",
   "metadata": {},
   "source": [
    "##### we can see that there is one missing cell in the Age column."
   ]
  },
  {
   "cell_type": "code",
   "execution_count": 58,
   "id": "3e1f9fcf-8a33-4886-b83f-b08f59db929c",
   "metadata": {},
   "outputs": [
    {
     "data": {
      "text/plain": [
       "array([18., 21., 19., 22., 23., 20., 24., nan])"
      ]
     },
     "execution_count": 58,
     "metadata": {},
     "output_type": "execute_result"
    }
   ],
   "source": [
    "# checking the values in the Age column\n",
    "df['Age'].unique()"
   ]
  },
  {
   "cell_type": "code",
   "execution_count": 59,
   "id": "69922cfe-27a9-4a15-96a7-3e4d794449ff",
   "metadata": {},
   "outputs": [
    {
     "data": {
      "text/plain": [
       "Age\n",
       "18.0    32\n",
       "24.0    23\n",
       "19.0    21\n",
       "23.0    13\n",
       "20.0     6\n",
       "21.0     3\n",
       "22.0     2\n",
       "Name: count, dtype: int64"
      ]
     },
     "execution_count": 59,
     "metadata": {},
     "output_type": "execute_result"
    }
   ],
   "source": [
    "# checking the variables in the Age column\n",
    "\n",
    "df['Age'].value_counts()"
   ]
  },
  {
   "cell_type": "markdown",
   "id": "92ae88ab-c455-4a03-8c34-ff8dd24bccea",
   "metadata": {},
   "source": [
    "##### Filling up the missing cell in the column with the mode(the most common age) of the Age."
   ]
  },
  {
   "cell_type": "code",
   "execution_count": 60,
   "id": "909c524e-9f7a-4f27-a078-34fe16511760",
   "metadata": {},
   "outputs": [],
   "source": [
    "# Importing the necessary Liabraries.\n",
    "import scipy.stats as stats"
   ]
  },
  {
   "cell_type": "code",
   "execution_count": 61,
   "id": "ebfbfb44-573b-4370-8bc0-fcc329af78cd",
   "metadata": {},
   "outputs": [
    {
     "data": {
      "text/plain": [
       "ModeResult(mode=18.0, count=32)"
      ]
     },
     "execution_count": 61,
     "metadata": {},
     "output_type": "execute_result"
    }
   ],
   "source": [
    "# finding the mode\n",
    "mode = stats.mode(df['Age'])\n",
    "mode"
   ]
  },
  {
   "cell_type": "code",
   "execution_count": 62,
   "id": "5dd8f228-0246-4b3b-84a7-a9302070deb1",
   "metadata": {},
   "outputs": [],
   "source": [
    "# to fill the column with the mode.\n",
    "df['Age'].fillna(df['Age'].mode()[0], inplace=True)"
   ]
  },
  {
   "cell_type": "code",
   "execution_count": 63,
   "id": "f5086728-e6b0-49f0-9d3f-90f9f5aaa89b",
   "metadata": {},
   "outputs": [
    {
     "data": {
      "text/plain": [
       "array([18., 21., 19., 22., 23., 20., 24.])"
      ]
     },
     "execution_count": 63,
     "metadata": {},
     "output_type": "execute_result"
    }
   ],
   "source": [
    "# Re-checking the variables in the column\n",
    "df['Age'].unique()"
   ]
  },
  {
   "cell_type": "code",
   "execution_count": 64,
   "id": "eda26eb2-f047-4342-b9c9-3f07b9927776",
   "metadata": {},
   "outputs": [
    {
     "data": {
      "text/plain": [
       "Age\n",
       "18.0    33\n",
       "24.0    23\n",
       "19.0    21\n",
       "23.0    13\n",
       "20.0     6\n",
       "21.0     3\n",
       "22.0     2\n",
       "Name: count, dtype: int64"
      ]
     },
     "execution_count": 64,
     "metadata": {},
     "output_type": "execute_result"
    }
   ],
   "source": [
    "# Rechecking the count of values in the Age column if it has been filled\n",
    "\n",
    "df['Age'].value_counts()"
   ]
  },
  {
   "cell_type": "code",
   "execution_count": 65,
   "id": "18694d5a-191f-4ead-af5a-ae067d1abd43",
   "metadata": {},
   "outputs": [
    {
     "data": {
      "text/plain": [
       "ModeResult(mode=18.0, count=33)"
      ]
     },
     "execution_count": 65,
     "metadata": {},
     "output_type": "execute_result"
    }
   ],
   "source": [
    "# rechecking the mode\n",
    "mode = stats.mode(df['Age'])\n",
    "mode"
   ]
  },
  {
   "cell_type": "markdown",
   "id": "6690de3d-73aa-4bc7-af28-f0a9c6da98ad",
   "metadata": {},
   "source": [
    "##### We can see that the value count for age 18.0 is now 33 againt 32. \n",
    "##### This indicates that the empty cell in the Age column has been filled with 18.0 as shown above."
   ]
  },
  {
   "cell_type": "code",
   "execution_count": 66,
   "id": "52efc65b-9583-4549-8e39-7face0d7bb7b",
   "metadata": {},
   "outputs": [
    {
     "data": {
      "image/png": "[encoded data removed]",
      "text/plain": [
       "<Figure size 640x480 with 2 Axes>"
      ]
     },
     "metadata": {},
     "output_type": "display_data"
    }
   ],
   "source": [
    "# using heatmap to re-check for empty column\n",
    "sns.heatmap(df.isnull(), yticklabels=False)\n",
    "plt.show()"
   ]
  },
  {
   "cell_type": "code",
   "execution_count": 67,
   "id": "5a6bf592-6e32-4dd0-9ca6-300434d53d6c",
   "metadata": {},
   "outputs": [
    {
     "data": {
      "text/html": [
       "<div>\n",
       "<style scoped>\n",
       "    .dataframe tbody tr th:only-of-type {\n",
       "        vertical-align: middle;\n",
       "    }\n",
       "\n",
       "    .dataframe tbody tr th {\n",
       "        vertical-align: top;\n",
       "    }\n",
       "\n",
       "    .dataframe thead th {\n",
       "        text-align: right;\n",
       "    }\n",
       "</style>\n",
       "<table border=\"1\" class=\"dataframe\">\n",
       "  <thead>\n",
       "    <tr style=\"text-align: right;\">\n",
       "      <th></th>\n",
       "      <th>Timestamp</th>\n",
       "      <th>Gender</th>\n",
       "      <th>Age</th>\n",
       "      <th>Course</th>\n",
       "      <th>Study_Year</th>\n",
       "      <th>CGPA</th>\n",
       "      <th>Marital_Status</th>\n",
       "      <th>Depression</th>\n",
       "      <th>Anxiety</th>\n",
       "      <th>Panic_Attack</th>\n",
       "      <th>Treatment</th>\n",
       "    </tr>\n",
       "  </thead>\n",
       "  <tbody>\n",
       "    <tr>\n",
       "      <th>0</th>\n",
       "      <td>8/7/2020 12:02</td>\n",
       "      <td>Female</td>\n",
       "      <td>18.0</td>\n",
       "      <td>Engineering</td>\n",
       "      <td>year 1</td>\n",
       "      <td>3.00 - 3.49</td>\n",
       "      <td>No</td>\n",
       "      <td>Yes</td>\n",
       "      <td>No</td>\n",
       "      <td>Yes</td>\n",
       "      <td>No</td>\n",
       "    </tr>\n",
       "    <tr>\n",
       "      <th>1</th>\n",
       "      <td>8/7/2020 12:04</td>\n",
       "      <td>Male</td>\n",
       "      <td>21.0</td>\n",
       "      <td>Islamic education</td>\n",
       "      <td>year 2</td>\n",
       "      <td>3.00 - 3.49</td>\n",
       "      <td>No</td>\n",
       "      <td>No</td>\n",
       "      <td>Yes</td>\n",
       "      <td>No</td>\n",
       "      <td>No</td>\n",
       "    </tr>\n",
       "    <tr>\n",
       "      <th>2</th>\n",
       "      <td>8/7/2020 12:05</td>\n",
       "      <td>Male</td>\n",
       "      <td>19.0</td>\n",
       "      <td>BIT</td>\n",
       "      <td>Year 1</td>\n",
       "      <td>3.00 - 3.49</td>\n",
       "      <td>No</td>\n",
       "      <td>Yes</td>\n",
       "      <td>Yes</td>\n",
       "      <td>Yes</td>\n",
       "      <td>No</td>\n",
       "    </tr>\n",
       "    <tr>\n",
       "      <th>3</th>\n",
       "      <td>8/7/2020 12:06</td>\n",
       "      <td>Female</td>\n",
       "      <td>22.0</td>\n",
       "      <td>Laws</td>\n",
       "      <td>year 3</td>\n",
       "      <td>3.00 - 3.49</td>\n",
       "      <td>Yes</td>\n",
       "      <td>Yes</td>\n",
       "      <td>No</td>\n",
       "      <td>No</td>\n",
       "      <td>No</td>\n",
       "    </tr>\n",
       "    <tr>\n",
       "      <th>4</th>\n",
       "      <td>8/7/2020 12:13</td>\n",
       "      <td>Male</td>\n",
       "      <td>23.0</td>\n",
       "      <td>Mathemathics</td>\n",
       "      <td>year 4</td>\n",
       "      <td>3.00 - 3.49</td>\n",
       "      <td>No</td>\n",
       "      <td>No</td>\n",
       "      <td>No</td>\n",
       "      <td>No</td>\n",
       "      <td>No</td>\n",
       "    </tr>\n",
       "  </tbody>\n",
       "</table>\n",
       "</div>"
      ],
      "text/plain": [
       "        Timestamp  Gender   Age             Course Study_Year         CGPA  \\\n",
       "0  8/7/2020 12:02  Female  18.0        Engineering     year 1  3.00 - 3.49   \n",
       "1  8/7/2020 12:04    Male  21.0  Islamic education     year 2  3.00 - 3.49   \n",
       "2  8/7/2020 12:05    Male  19.0                BIT     Year 1  3.00 - 3.49   \n",
       "3  8/7/2020 12:06  Female  22.0               Laws     year 3  3.00 - 3.49   \n",
       "4  8/7/2020 12:13    Male  23.0       Mathemathics     year 4  3.00 - 3.49   \n",
       "\n",
       "  Marital_Status Depression Anxiety Panic_Attack Treatment  \n",
       "0             No        Yes      No          Yes        No  \n",
       "1             No         No     Yes           No        No  \n",
       "2             No        Yes     Yes          Yes        No  \n",
       "3            Yes        Yes      No           No        No  \n",
       "4             No         No      No           No        No  "
      ]
     },
     "execution_count": 67,
     "metadata": {},
     "output_type": "execute_result"
    }
   ],
   "source": [
    "#Rename columns for easy call-up\n",
    "df.columns = ['Timestamp', 'Gender', 'Age', 'Course', 'Study_Year', 'CGPA', 'Marital_Status', 'Depression', 'Anxiety', 'Panic_Attack', 'Treatment']\n",
    "df.head()"
   ]
  },
  {
   "cell_type": "code",
   "execution_count": 68,
   "id": "be278efa-5c40-4a15-a650-4c1e1b7de3c7",
   "metadata": {},
   "outputs": [
    {
     "data": {
      "text/plain": [
       "Study_Year\n",
       "year 1    41\n",
       "Year 3    19\n",
       "Year 2    16\n",
       "year 2    10\n",
       "year 4     8\n",
       "year 3     5\n",
       "Year 1     2\n",
       "Name: count, dtype: int64"
      ]
     },
     "execution_count": 68,
     "metadata": {},
     "output_type": "execute_result"
    }
   ],
   "source": [
    "df['Study_Year'].value_counts()"
   ]
  },
  {
   "cell_type": "code",
   "execution_count": 69,
   "id": "1ed30393-9b1c-4a4e-8f35-93574357797e",
   "metadata": {},
   "outputs": [],
   "source": [
    "#Fixing structural errors in the Study_Year column\n",
    "df['Study_Year'] = df['Study_Year'].str.capitalize()\n"
   ]
  },
  {
   "cell_type": "code",
   "execution_count": 70,
   "id": "d2caf2b1-76f7-4890-8a68-665c13e39c92",
   "metadata": {},
   "outputs": [
    {
     "data": {
      "text/plain": [
       "Study_Year\n",
       "Year 1    43\n",
       "Year 2    26\n",
       "Year 3    24\n",
       "Year 4     8\n",
       "Name: count, dtype: int64"
      ]
     },
     "execution_count": 70,
     "metadata": {},
     "output_type": "execute_result"
    }
   ],
   "source": [
    "#checking if the structural errors is fixed (capitalized was effected).\n",
    "df['Study_Year'].value_counts()"
   ]
  },
  {
   "cell_type": "code",
   "execution_count": 71,
   "id": "1d8cd494-05eb-4dc5-9c26-464bb29b54bb",
   "metadata": {},
   "outputs": [
    {
     "data": {
      "text/plain": [
       "array(['Engineering', 'Islamic education', 'BIT', 'Laws', 'Mathemathics',\n",
       "       'Pendidikan islam', 'BCS', 'Human Resources', 'Irkhs',\n",
       "       'Psychology', 'KENMS', 'Accounting ', 'ENM', 'Marine science',\n",
       "       'KOE', 'Banking Studies', 'Business Administration', 'Law',\n",
       "       'KIRKHS', 'Usuluddin ', 'TAASL', 'Engine', 'ALA',\n",
       "       'Biomedical science', 'koe', 'Kirkhs', 'BENL', 'Benl', 'IT', 'CTS',\n",
       "       'engin', 'Econs', 'MHSC', 'Malcom', 'Kop', 'Human Sciences ',\n",
       "       'Biotechnology', 'Communication ', 'Diploma Nursing',\n",
       "       'Pendidikan Islam ', 'Radiography', 'psychology', 'Fiqh fatwa ',\n",
       "       'DIPLOMA TESL', 'Koe', 'Fiqh', 'Islamic Education', 'Nursing ',\n",
       "       'Pendidikan Islam'], dtype=object)"
      ]
     },
     "execution_count": 71,
     "metadata": {},
     "output_type": "execute_result"
    }
   ],
   "source": [
    "# checking the course column for abnormalities\n",
    "df['Course'].unique()"
   ]
  },
  {
   "cell_type": "code",
   "execution_count": 72,
   "id": "538d8964-2ed4-4e6c-8755-12322760097a",
   "metadata": {},
   "outputs": [
    {
     "data": {
      "text/plain": [
       "49"
      ]
     },
     "execution_count": 72,
     "metadata": {},
     "output_type": "execute_result"
    }
   ],
   "source": [
    "# checking the total number of unique course\n",
    "df['Course'].nunique()"
   ]
  },
  {
   "cell_type": "code",
   "execution_count": 73,
   "id": "1abb224e-5a05-416e-9b4c-c569278ca1ef",
   "metadata": {},
   "outputs": [
    {
     "data": {
      "text/plain": [
       "Course\n",
       "BCS                        18\n",
       "Engineering                17\n",
       "BIT                        10\n",
       "Biomedical science          4\n",
       "KOE                         4\n",
       "BENL                        2\n",
       "Laws                        2\n",
       "psychology                  2\n",
       "Engine                      2\n",
       "Islamic Education           1\n",
       "Biotechnology               1\n",
       "engin                       1\n",
       "Econs                       1\n",
       "MHSC                        1\n",
       "Malcom                      1\n",
       "Kop                         1\n",
       "Human Sciences              1\n",
       "Communication               1\n",
       "Nursing                     1\n",
       "Diploma Nursing             1\n",
       "IT                          1\n",
       "Pendidikan Islam            1\n",
       "Radiography                 1\n",
       "Fiqh fatwa                  1\n",
       "DIPLOMA TESL                1\n",
       "Koe                         1\n",
       "Fiqh                        1\n",
       "CTS                         1\n",
       "koe                         1\n",
       "Benl                        1\n",
       "Kirkhs                      1\n",
       "Mathemathics                1\n",
       "Pendidikan islam            1\n",
       "Human Resources             1\n",
       "Irkhs                       1\n",
       "Psychology                  1\n",
       "KENMS                       1\n",
       "Accounting                  1\n",
       "ENM                         1\n",
       "Marine science              1\n",
       "Banking Studies             1\n",
       "Business Administration     1\n",
       "Law                         1\n",
       "KIRKHS                      1\n",
       "Usuluddin                   1\n",
       "TAASL                       1\n",
       "ALA                         1\n",
       "Islamic education           1\n",
       "Pendidikan Islam            1\n",
       "Name: count, dtype: int64"
      ]
     },
     "execution_count": 73,
     "metadata": {},
     "output_type": "execute_result"
    }
   ],
   "source": [
    "# checking the count of course for abnormalities\n",
    "df['Course'].value_counts()"
   ]
  },
  {
   "cell_type": "markdown",
   "id": "04b0ba37-a031-494f-903c-31954ab5e77f",
   "metadata": {},
   "source": [
    "From the output, we can see that some courses occured more than once, due to upper case, lower case, or spelling difference."
   ]
  },
  {
   "cell_type": "code",
   "execution_count": 74,
   "id": "f2870b64-2ffc-4c2e-ad1d-300882e8ee09",
   "metadata": {},
   "outputs": [],
   "source": [
    "course_mapping = {\n",
    "    'bcs': 'BCS',                   \n",
    "    'engineering': 'Engineering',\n",
    "    'bit': 'BIT',\n",
    "    'Biomedical science': 'Biomedical Science',\n",
    "    'koe': 'KOE',\n",
    "    'benl': 'BENL',\n",
    "    'laws': 'Law',\n",
    "    'psychology': 'Psychology',\n",
    "    'engine': 'Engineering',\n",
    "    'islamic education': 'Islamic Education',\n",
    "    'biotechnology': 'Biotechnology',\n",
    "    'engin': 'Engineering',\n",
    "    'econs': 'Economics',\n",
    "    'mhsc': 'MHSC',\n",
    "    'malcom': 'Malcom',\n",
    "    'kop': 'Kop',\n",
    "    'human sciences':'Human Sciences',\n",
    "    'communication': 'Communication',\n",
    "    'nursing': 'Nursing',\n",
    "    'diploma nursing': 'Diploma Nursing',\n",
    "    'it': 'IT',\n",
    "    'Pendidikan Islam': 'Islamic Education',\n",
    "    'radiography': 'Radiography',\n",
    "    'fiqh fatwa': 'Fiqh Fatwa',\n",
    "    'diploma tesl': 'Diploma TESL',\n",
    "    'koe': 'Koe',\n",
    "    'fiqh': 'Fiqh',\n",
    "    'cts': 'CTS',\n",
    "    'koe': 'Koe',\n",
    "    'benl': 'BENL',\n",
    "    'kirkhs': 'Kirkhs',\n",
    "    'mathemathics': 'Mathemathics',\n",
    "    'pendidikan islam': 'Islamic Education',\n",
    "    'human resources': 'Human Resources',\n",
    "    'irkhs': 'Irkhs',\n",
    "    'psychology': 'Psychology',\n",
    "    'kenms': 'KENMS',\n",
    "    'accounting': 'Accounting',\n",
    "    'enm': 'ENM',\n",
    "    'marine science': 'Marine Science',\n",
    "    'banking studies': 'Banking Studies',\n",
    "    'business administration': 'Business Administration',\n",
    "    'law': 'Law',\n",
    "    'kirkhs': 'Kirkhs',\n",
    "    'usuluddin': 'Usuluddin',\n",
    "    'taasl': 'TAASL',\n",
    "    'ala': 'Ala',\n",
    "    'islamic education': 'Islamic Education',\n",
    "    'pendidikan islam': 'Islamic Education',\n",
    "}\n",
    "\n",
    "#since multiple entries of the same courses exist\n",
    "#yet only differ in lettercase\n",
    "\n",
    "df['Course'] = df['Course'].str.lower().str.strip().map(course_mapping)"
   ]
  },
  {
   "cell_type": "code",
   "execution_count": 75,
   "id": "d58d9410-478a-4a99-a3b2-6dbeb49f903b",
   "metadata": {},
   "outputs": [
    {
     "data": {
      "text/plain": [
       "array(['Engineering', 'Islamic Education', 'BIT', 'Law', 'Mathemathics',\n",
       "       'BCS', 'Human Resources', 'Irkhs', 'Psychology', 'KENMS',\n",
       "       'Accounting', 'ENM', 'Marine Science', 'Koe', 'Banking Studies',\n",
       "       'Business Administration', 'Kirkhs', 'Usuluddin', 'TAASL', 'Ala',\n",
       "       nan, 'BENL', 'IT', 'CTS', 'Economics', 'MHSC', 'Malcom', 'Kop',\n",
       "       'Human Sciences', 'Biotechnology', 'Communication',\n",
       "       'Diploma Nursing', 'Radiography', 'Fiqh Fatwa', 'Diploma TESL',\n",
       "       'Fiqh', 'Nursing'], dtype=object)"
      ]
     },
     "execution_count": 75,
     "metadata": {},
     "output_type": "execute_result"
    }
   ],
   "source": [
    "# checking the course column for successful course mapping\n",
    "df['Course'].unique()"
   ]
  },
  {
   "cell_type": "code",
   "execution_count": 76,
   "id": "9d915898-c4c7-4f3a-9ce0-c31090cd12ab",
   "metadata": {},
   "outputs": [
    {
     "data": {
      "text/plain": [
       "36"
      ]
     },
     "execution_count": 76,
     "metadata": {},
     "output_type": "execute_result"
    }
   ],
   "source": [
    "# re_checking the total number of unique course\n",
    "df['Course'].nunique()"
   ]
  },
  {
   "cell_type": "code",
   "execution_count": 77,
   "id": "f6244bcc-cdf6-4d31-b587-d94ba2e472f6",
   "metadata": {},
   "outputs": [
    {
     "data": {
      "text/plain": [
       "Course\n",
       "Engineering                20\n",
       "BCS                        18\n",
       "BIT                        10\n",
       "Koe                         6\n",
       "Islamic Education           5\n",
       "Law                         3\n",
       "BENL                        3\n",
       "Psychology                  3\n",
       "Kirkhs                      2\n",
       "MHSC                        1\n",
       "Malcom                      1\n",
       "Kop                         1\n",
       "Human Sciences              1\n",
       "Communication               1\n",
       "Biotechnology               1\n",
       "CTS                         1\n",
       "Diploma Nursing             1\n",
       "Radiography                 1\n",
       "Fiqh Fatwa                  1\n",
       "Diploma TESL                1\n",
       "Fiqh                        1\n",
       "Economics                   1\n",
       "TAASL                       1\n",
       "IT                          1\n",
       "Ala                         1\n",
       "Usuluddin                   1\n",
       "Business Administration     1\n",
       "Banking Studies             1\n",
       "Marine Science              1\n",
       "ENM                         1\n",
       "Accounting                  1\n",
       "KENMS                       1\n",
       "Irkhs                       1\n",
       "Human Resources             1\n",
       "Mathemathics                1\n",
       "Nursing                     1\n",
       "Name: count, dtype: int64"
      ]
     },
     "execution_count": 77,
     "metadata": {},
     "output_type": "execute_result"
    }
   ],
   "source": [
    "# Re-checking the course column for abnormalities\n",
    "df['Course'].value_counts()"
   ]
  },
  {
   "cell_type": "code",
   "execution_count": 78,
   "id": "de5e7b77-36f7-4a9c-ae16-18633cad5788",
   "metadata": {},
   "outputs": [
    {
     "data": {
      "text/html": [
       "<div>\n",
       "<style scoped>\n",
       "    .dataframe tbody tr th:only-of-type {\n",
       "        vertical-align: middle;\n",
       "    }\n",
       "\n",
       "    .dataframe tbody tr th {\n",
       "        vertical-align: top;\n",
       "    }\n",
       "\n",
       "    .dataframe thead th {\n",
       "        text-align: right;\n",
       "    }\n",
       "</style>\n",
       "<table border=\"1\" class=\"dataframe\">\n",
       "  <thead>\n",
       "    <tr style=\"text-align: right;\">\n",
       "      <th></th>\n",
       "      <th>Timestamp</th>\n",
       "      <th>Gender</th>\n",
       "      <th>Age</th>\n",
       "      <th>Course</th>\n",
       "      <th>Study_Year</th>\n",
       "      <th>CGPA</th>\n",
       "      <th>Marital_Status</th>\n",
       "      <th>Depression</th>\n",
       "      <th>Anxiety</th>\n",
       "      <th>Panic_Attack</th>\n",
       "      <th>Treatment</th>\n",
       "    </tr>\n",
       "  </thead>\n",
       "  <tbody>\n",
       "    <tr>\n",
       "      <th>0</th>\n",
       "      <td>8/7/2020 12:02</td>\n",
       "      <td>Female</td>\n",
       "      <td>18.0</td>\n",
       "      <td>Engineering</td>\n",
       "      <td>Year 1</td>\n",
       "      <td>3.00 - 3.49</td>\n",
       "      <td>No</td>\n",
       "      <td>Yes</td>\n",
       "      <td>No</td>\n",
       "      <td>Yes</td>\n",
       "      <td>No</td>\n",
       "    </tr>\n",
       "    <tr>\n",
       "      <th>1</th>\n",
       "      <td>8/7/2020 12:04</td>\n",
       "      <td>Male</td>\n",
       "      <td>21.0</td>\n",
       "      <td>Islamic Education</td>\n",
       "      <td>Year 2</td>\n",
       "      <td>3.00 - 3.49</td>\n",
       "      <td>No</td>\n",
       "      <td>No</td>\n",
       "      <td>Yes</td>\n",
       "      <td>No</td>\n",
       "      <td>No</td>\n",
       "    </tr>\n",
       "    <tr>\n",
       "      <th>2</th>\n",
       "      <td>8/7/2020 12:05</td>\n",
       "      <td>Male</td>\n",
       "      <td>19.0</td>\n",
       "      <td>BIT</td>\n",
       "      <td>Year 1</td>\n",
       "      <td>3.00 - 3.49</td>\n",
       "      <td>No</td>\n",
       "      <td>Yes</td>\n",
       "      <td>Yes</td>\n",
       "      <td>Yes</td>\n",
       "      <td>No</td>\n",
       "    </tr>\n",
       "    <tr>\n",
       "      <th>3</th>\n",
       "      <td>8/7/2020 12:06</td>\n",
       "      <td>Female</td>\n",
       "      <td>22.0</td>\n",
       "      <td>Law</td>\n",
       "      <td>Year 3</td>\n",
       "      <td>3.00 - 3.49</td>\n",
       "      <td>Yes</td>\n",
       "      <td>Yes</td>\n",
       "      <td>No</td>\n",
       "      <td>No</td>\n",
       "      <td>No</td>\n",
       "    </tr>\n",
       "    <tr>\n",
       "      <th>4</th>\n",
       "      <td>8/7/2020 12:13</td>\n",
       "      <td>Male</td>\n",
       "      <td>23.0</td>\n",
       "      <td>Mathemathics</td>\n",
       "      <td>Year 4</td>\n",
       "      <td>3.00 - 3.49</td>\n",
       "      <td>No</td>\n",
       "      <td>No</td>\n",
       "      <td>No</td>\n",
       "      <td>No</td>\n",
       "      <td>No</td>\n",
       "    </tr>\n",
       "    <tr>\n",
       "      <th>...</th>\n",
       "      <td>...</td>\n",
       "      <td>...</td>\n",
       "      <td>...</td>\n",
       "      <td>...</td>\n",
       "      <td>...</td>\n",
       "      <td>...</td>\n",
       "      <td>...</td>\n",
       "      <td>...</td>\n",
       "      <td>...</td>\n",
       "      <td>...</td>\n",
       "      <td>...</td>\n",
       "    </tr>\n",
       "    <tr>\n",
       "      <th>96</th>\n",
       "      <td>13/07/2020 19:56:49</td>\n",
       "      <td>Female</td>\n",
       "      <td>21.0</td>\n",
       "      <td>BCS</td>\n",
       "      <td>Year 1</td>\n",
       "      <td>3.50 - 4.00</td>\n",
       "      <td>No</td>\n",
       "      <td>No</td>\n",
       "      <td>Yes</td>\n",
       "      <td>No</td>\n",
       "      <td>No</td>\n",
       "    </tr>\n",
       "    <tr>\n",
       "      <th>97</th>\n",
       "      <td>13/07/2020 21:21:42</td>\n",
       "      <td>Male</td>\n",
       "      <td>18.0</td>\n",
       "      <td>Engineering</td>\n",
       "      <td>Year 2</td>\n",
       "      <td>3.00 - 3.49</td>\n",
       "      <td>No</td>\n",
       "      <td>Yes</td>\n",
       "      <td>Yes</td>\n",
       "      <td>No</td>\n",
       "      <td>No</td>\n",
       "    </tr>\n",
       "    <tr>\n",
       "      <th>98</th>\n",
       "      <td>13/07/2020 21:22:56</td>\n",
       "      <td>Female</td>\n",
       "      <td>19.0</td>\n",
       "      <td>Nursing</td>\n",
       "      <td>Year 3</td>\n",
       "      <td>3.50 - 4.00</td>\n",
       "      <td>Yes</td>\n",
       "      <td>Yes</td>\n",
       "      <td>No</td>\n",
       "      <td>Yes</td>\n",
       "      <td>No</td>\n",
       "    </tr>\n",
       "    <tr>\n",
       "      <th>99</th>\n",
       "      <td>13/07/2020 21:23:57</td>\n",
       "      <td>Female</td>\n",
       "      <td>23.0</td>\n",
       "      <td>Islamic Education</td>\n",
       "      <td>Year 4</td>\n",
       "      <td>3.50 - 4.00</td>\n",
       "      <td>No</td>\n",
       "      <td>No</td>\n",
       "      <td>No</td>\n",
       "      <td>No</td>\n",
       "      <td>No</td>\n",
       "    </tr>\n",
       "    <tr>\n",
       "      <th>100</th>\n",
       "      <td>18/07/2020 20:16:21</td>\n",
       "      <td>Male</td>\n",
       "      <td>20.0</td>\n",
       "      <td>NaN</td>\n",
       "      <td>Year 2</td>\n",
       "      <td>3.00 - 3.49</td>\n",
       "      <td>No</td>\n",
       "      <td>No</td>\n",
       "      <td>No</td>\n",
       "      <td>No</td>\n",
       "      <td>No</td>\n",
       "    </tr>\n",
       "  </tbody>\n",
       "</table>\n",
       "<p>101 rows × 11 columns</p>\n",
       "</div>"
      ],
      "text/plain": [
       "               Timestamp  Gender   Age             Course Study_Year  \\\n",
       "0         8/7/2020 12:02  Female  18.0        Engineering     Year 1   \n",
       "1         8/7/2020 12:04    Male  21.0  Islamic Education     Year 2   \n",
       "2         8/7/2020 12:05    Male  19.0                BIT     Year 1   \n",
       "3         8/7/2020 12:06  Female  22.0                Law     Year 3   \n",
       "4         8/7/2020 12:13    Male  23.0       Mathemathics     Year 4   \n",
       "..                   ...     ...   ...                ...        ...   \n",
       "96   13/07/2020 19:56:49  Female  21.0                BCS     Year 1   \n",
       "97   13/07/2020 21:21:42    Male  18.0        Engineering     Year 2   \n",
       "98   13/07/2020 21:22:56  Female  19.0            Nursing     Year 3   \n",
       "99   13/07/2020 21:23:57  Female  23.0  Islamic Education     Year 4   \n",
       "100  18/07/2020 20:16:21    Male  20.0                NaN     Year 2   \n",
       "\n",
       "            CGPA Marital_Status Depression Anxiety Panic_Attack Treatment  \n",
       "0    3.00 - 3.49             No        Yes      No          Yes        No  \n",
       "1    3.00 - 3.49             No         No     Yes           No        No  \n",
       "2    3.00 - 3.49             No        Yes     Yes          Yes        No  \n",
       "3    3.00 - 3.49            Yes        Yes      No           No        No  \n",
       "4    3.00 - 3.49             No         No      No           No        No  \n",
       "..           ...            ...        ...     ...          ...       ...  \n",
       "96   3.50 - 4.00             No         No     Yes           No        No  \n",
       "97   3.00 - 3.49             No        Yes     Yes           No        No  \n",
       "98   3.50 - 4.00            Yes        Yes      No          Yes        No  \n",
       "99   3.50 - 4.00             No         No      No           No        No  \n",
       "100  3.00 - 3.49             No         No      No           No        No  \n",
       "\n",
       "[101 rows x 11 columns]"
      ]
     },
     "execution_count": 78,
     "metadata": {},
     "output_type": "execute_result"
    }
   ],
   "source": [
    "# to remove duplicates in the dataset\n",
    "df.drop_duplicates()"
   ]
  },
  {
   "cell_type": "code",
   "execution_count": 79,
   "id": "befc594e-d6f1-4df1-83a6-d51a04f1d2ea",
   "metadata": {},
   "outputs": [],
   "source": [
    "# saving to csv format\n",
    "df.to_csv('Cleaned_Student_Mental_Health_Data.csv', index=False)"
   ]
  },
  {
   "cell_type": "code",
   "execution_count": 80,
   "id": "6a80fce0-4e20-49d9-b0cf-a23ca5e7e587",
   "metadata": {},
   "outputs": [],
   "source": [
    "# saving to Microsoft excel format\n",
    "df.to_excel('Cleaned_Student_Mental_Health_Data.xlsx', index=False)"
   ]
  },
  {
   "cell_type": "raw",
   "id": "518affd7-bc19-420f-b533-aeb64ec617da",
   "metadata": {},
   "source": []
  },
  {
   "cell_type": "raw",
   "id": "4f2ab6ec-135c-440b-a75f-cabe204777c1",
   "metadata": {},
   "source": []
  },
  {
   "cell_type": "markdown",
   "id": "2bd45f14-46d1-461a-8e7f-b9118e0baee9",
   "metadata": {},
   "source": [
    "### LET'S DEPLOY A STATISTICAL ANALYSIS OF THE EFFECTS OF MENTAL HEALTH ON STUDENTS’ CGPA "
   ]
  },
  {
   "cell_type": "code",
   "execution_count": 81,
   "id": "917bed4a-d35f-4f38-ad4b-24d5240bacd1",
   "metadata": {
    "scrolled": true
   },
   "outputs": [
    {
     "data": {
      "text/html": [
       "<div>\n",
       "<style scoped>\n",
       "    .dataframe tbody tr th:only-of-type {\n",
       "        vertical-align: middle;\n",
       "    }\n",
       "\n",
       "    .dataframe tbody tr th {\n",
       "        vertical-align: top;\n",
       "    }\n",
       "\n",
       "    .dataframe thead th {\n",
       "        text-align: right;\n",
       "    }\n",
       "</style>\n",
       "<table border=\"1\" class=\"dataframe\">\n",
       "  <thead>\n",
       "    <tr style=\"text-align: right;\">\n",
       "      <th></th>\n",
       "      <th>Timestamp</th>\n",
       "      <th>Gender</th>\n",
       "      <th>Age</th>\n",
       "      <th>Course</th>\n",
       "      <th>Study_Year</th>\n",
       "      <th>CGPA</th>\n",
       "      <th>Marital_Status</th>\n",
       "      <th>Depression</th>\n",
       "      <th>Anxiety</th>\n",
       "      <th>Panic_Attack</th>\n",
       "      <th>Treatment</th>\n",
       "    </tr>\n",
       "  </thead>\n",
       "  <tbody>\n",
       "    <tr>\n",
       "      <th>0</th>\n",
       "      <td>8/7/2020 12:02</td>\n",
       "      <td>Female</td>\n",
       "      <td>18.0</td>\n",
       "      <td>Engineering</td>\n",
       "      <td>Year 1</td>\n",
       "      <td>3.00 - 3.49</td>\n",
       "      <td>No</td>\n",
       "      <td>Yes</td>\n",
       "      <td>No</td>\n",
       "      <td>Yes</td>\n",
       "      <td>No</td>\n",
       "    </tr>\n",
       "    <tr>\n",
       "      <th>1</th>\n",
       "      <td>8/7/2020 12:04</td>\n",
       "      <td>Male</td>\n",
       "      <td>21.0</td>\n",
       "      <td>Islamic Education</td>\n",
       "      <td>Year 2</td>\n",
       "      <td>3.00 - 3.49</td>\n",
       "      <td>No</td>\n",
       "      <td>No</td>\n",
       "      <td>Yes</td>\n",
       "      <td>No</td>\n",
       "      <td>No</td>\n",
       "    </tr>\n",
       "  </tbody>\n",
       "</table>\n",
       "</div>"
      ],
      "text/plain": [
       "        Timestamp  Gender   Age             Course Study_Year         CGPA  \\\n",
       "0  8/7/2020 12:02  Female  18.0        Engineering     Year 1  3.00 - 3.49   \n",
       "1  8/7/2020 12:04    Male  21.0  Islamic Education     Year 2  3.00 - 3.49   \n",
       "\n",
       "  Marital_Status Depression Anxiety Panic_Attack Treatment  \n",
       "0             No        Yes      No          Yes        No  \n",
       "1             No         No     Yes           No        No  "
      ]
     },
     "execution_count": 81,
     "metadata": {},
     "output_type": "execute_result"
    }
   ],
   "source": [
    "# calling down the dataset for easy viewing\n",
    "df.head(2)"
   ]
  },
  {
   "cell_type": "markdown",
   "id": "945bf7e2-4b2a-4620-b8f7-10495f7c76d8",
   "metadata": {},
   "source": [
    "### Gender Analyzing"
   ]
  },
  {
   "cell_type": "code",
   "execution_count": 82,
   "id": "2d16083c-dece-47f8-ba5f-079c3b62e0fd",
   "metadata": {},
   "outputs": [
    {
     "data": {
      "text/plain": [
       "Gender\n",
       "Female    75\n",
       "Male      26\n",
       "Name: count, dtype: int64"
      ]
     },
     "execution_count": 82,
     "metadata": {},
     "output_type": "execute_result"
    }
   ],
   "source": [
    "df['Gender'].value_counts()"
   ]
  },
  {
   "cell_type": "code",
   "execution_count": 83,
   "id": "3c7cdd4f-efd3-47e7-8c91-a4fedebd084c",
   "metadata": {},
   "outputs": [
    {
     "data": {
      "image/png": "[encoded data removed]",
      "text/plain": [
       "<Figure size 640x480 with 1 Axes>"
      ]
     },
     "metadata": {},
     "output_type": "display_data"
    }
   ],
   "source": [
    "Gender_count = sns.countplot(data=df, x='Gender')\n",
    "plt.title('Gender Distribution')\n",
    "plt.xlabel('Gender')\n",
    "plt.ylabel('Count')\n",
    "\n",
    "# Add counts on top of the bars\n",
    "for p in Gender_count.patches:\n",
    "    Gender_count.annotate(f'{int(p.get_height())}', (p.get_x() + p.get_width() / 2., p.get_height()),\n",
    "                ha='center', va='center', fontsize=12, color='black', xytext=(0, 5),\n",
    "                textcoords='offset points')\n",
    "\n",
    "plt.show()"
   ]
  },
  {
   "cell_type": "markdown",
   "id": "7b69772c-9afe-4810-819e-c34d1ea13da2",
   "metadata": {},
   "source": [
    "##### From the chart above, we can confirm that more females filled the form than male.\n",
    "##### However, we must take into cognicant that this project isn't mainly gender based, \n",
    "##### but general effect of student mental health on CGPA."
   ]
  },
  {
   "cell_type": "code",
   "execution_count": 84,
   "id": "b2d60867-7a2a-4d17-b117-3b3c7622bb2c",
   "metadata": {},
   "outputs": [
    {
     "name": "stdout",
     "output_type": "stream",
     "text": [
      "Tolal number of students is 101\n"
     ]
    }
   ],
   "source": [
    "# checking that the total number of female and male equal to the number of rows in the dataset\n",
    "female_count = 75\n",
    "male_count = 26\n",
    "total_count = female_count + male_count\n",
    "print(f'Tolal number of students is {total_count}')"
   ]
  },
  {
   "cell_type": "code",
   "execution_count": 85,
   "id": "fd96363a-3133-4ec2-a9a9-a905c613e427",
   "metadata": {},
   "outputs": [
    {
     "data": {
      "image/png": "[encoded data removed]",
      "text/plain": [
       "<Figure size 640x480 with 1 Axes>"
      ]
     },
     "metadata": {},
     "output_type": "display_data"
    }
   ],
   "source": [
    "# checking the gender percentage ratio\n",
    "sizes = [female_count, male_count]\n",
    "labels = ['Female', 'Male']\n",
    "\n",
    "plt.pie(sizes, labels=labels, autopct='%1.1f%%', textprops={'color':'black'}, startangle=90)\n",
    "plt.axis('equal')  # Equal aspect ratio ensures that pie is drawn as a circle.\n",
    "plt.show()\n"
   ]
  },
  {
   "cell_type": "markdown",
   "id": "bda29926-076b-42f2-bd92-719997926f4a",
   "metadata": {},
   "source": [
    "It is also worth knowing that 25.7% of males and 74.3% female filled the form."
   ]
  },
  {
   "cell_type": "markdown",
   "id": "0adfe2b0-9872-4bfc-a1ab-85d58dd406d1",
   "metadata": {},
   "source": [
    "### Analyzing The Age"
   ]
  },
  {
   "cell_type": "code",
   "execution_count": 86,
   "id": "0ff88293-73a6-4cda-a44e-0feffb3ba425",
   "metadata": {},
   "outputs": [
    {
     "data": {
      "text/plain": [
       "Age\n",
       "18.0    33\n",
       "24.0    23\n",
       "19.0    21\n",
       "23.0    13\n",
       "20.0     6\n",
       "21.0     3\n",
       "22.0     2\n",
       "Name: count, dtype: int64"
      ]
     },
     "execution_count": 86,
     "metadata": {},
     "output_type": "execute_result"
    }
   ],
   "source": [
    "df['Age'].value_counts()"
   ]
  },
  {
   "cell_type": "code",
   "execution_count": 87,
   "id": "49005da7-7572-4118-9583-04c9af05be1c",
   "metadata": {},
   "outputs": [
    {
     "name": "stdout",
     "output_type": "stream",
     "text": [
      "The mean is:  20.504950495049506\n",
      "The median is:  19.0\n",
      "The mode is:  ModeResult(mode=18.0, count=33)\n",
      "The variance is:  6.170767571806684\n",
      "The std is:  2.4841029712567644\n"
     ]
    }
   ],
   "source": [
    "# Deploying statistical method to check for the mean, median, mode, variance, and standard deviation of the student age\n",
    "mean = df[\"Age\"].mean()\n",
    "print(f'The mean is: ', mean)\n",
    "\n",
    "median = df[\"Age\"].median()\n",
    "print(f'The median is: ', median)\n",
    "\n",
    "mode = stats.mode(df['Age'])\n",
    "print(f'The mode is: ', mode)\n",
    "\n",
    "variance = np.var(df['Age'])\n",
    "print(f'The variance is: ', variance)\n",
    "\n",
    "std = np.std(df['Age'])\n",
    "print(f'The std is: ', std)"
   ]
  },
  {
   "cell_type": "code",
   "execution_count": 88,
   "id": "a34559df-7f2e-428c-be94-696c26a9010a",
   "metadata": {},
   "outputs": [
    {
     "data": {
      "text/plain": [
       "Depression  Anxiety  Panic_Attack  Age \n",
       "Yes         Yes      Yes           19.0    3\n",
       "                                   24.0    3\n",
       "                                   18.0    2\n",
       "                                   20.0    1\n",
       "                                   23.0    1\n",
       "Name: count, dtype: int64"
      ]
     },
     "execution_count": 88,
     "metadata": {},
     "output_type": "execute_result"
    }
   ],
   "source": [
    "# Let's look at student mental health (SMH) in relation to age when SMH is YES\n",
    "SMH_Yes = (df[\"Depression\"] == \"Yes\") & (df[\"Anxiety\"] == \"Yes\") & (df[\"Panic_Attack\"] == \"Yes\")\n",
    "df.loc[SMH_Yes, [\"Depression\", \"Anxiety\", \"Panic_Attack\", \"Age\"]].value_counts()"
   ]
  },
  {
   "cell_type": "code",
   "execution_count": 89,
   "id": "e2218c29-3fae-4a8d-9b4c-b3dd32be1e83",
   "metadata": {},
   "outputs": [
    {
     "data": {
      "text/plain": [
       "Depression  Anxiety  Panic_Attack  Age \n",
       "No          No       No            18.0    11\n",
       "                                   19.0     8\n",
       "                                   24.0     8\n",
       "                                   23.0     6\n",
       "                                   20.0     2\n",
       "                                   21.0     1\n",
       "                                   22.0     1\n",
       "Name: count, dtype: int64"
      ]
     },
     "execution_count": 89,
     "metadata": {},
     "output_type": "execute_result"
    }
   ],
   "source": [
    "# Let's look at student mental health (SMH) in relation to age when SMH is NO\n",
    "SMH_No = (df[\"Depression\"] == \"No\") & (df[\"Anxiety\"] == \"No\") & (df[\"Panic_Attack\"] == \"No\")\n",
    "df.loc[SMH_No, [\"Depression\", \"Anxiety\", \"Panic_Attack\", \"Age\"]].value_counts()"
   ]
  },
  {
   "cell_type": "code",
   "execution_count": 90,
   "id": "5487ba18-8439-45c4-8ecf-3b6d939bb8d8",
   "metadata": {},
   "outputs": [
    {
     "data": {
      "image/png": "[encoded data removed]",
      "text/plain": [
       "<Figure size 1000x800 with 2 Axes>"
      ]
     },
     "metadata": {},
     "output_type": "display_data"
    }
   ],
   "source": [
    "# create a pivot table to count the occurrences\n",
    "pivot_table = pd.pivot_table(df, index=['Age'], columns = ['Depression', 'Anxiety', 'Panic_Attack'], aggfunc = 'size')\n",
    "\n",
    "# create a heatmap\n",
    "plt.figure(figsize=(10, 8))\n",
    "sns.heatmap(pivot_table, cmap='coolwarm', annot=True)\n",
    "\n",
    "# add title and labels\n",
    "plt.title('Heatmap of Depression, Anxiety, and Panic_Attack vs Age')\n",
    "\n",
    "# display the plot\n",
    "plt.show()"
   ]
  },
  {
   "cell_type": "markdown",
   "id": "dba3a0e1-b732-4440-a492-1762c93244df",
   "metadata": {},
   "source": [
    "From the heatmap, we can deduce that students of age 18.0, 19.0, and 24.0 mostly experienced Mental Health issues."
   ]
  },
  {
   "cell_type": "markdown",
   "id": "1f1cf1e6-3658-4a31-adee-2774e230559b",
   "metadata": {},
   "source": [
    "### Analyzing The Course"
   ]
  },
  {
   "cell_type": "code",
   "execution_count": 91,
   "id": "b851b077-bd6a-4c8c-9ee3-db99eecc79cf",
   "metadata": {},
   "outputs": [
    {
     "data": {
      "text/plain": [
       "Course\n",
       "Engineering                20\n",
       "BCS                        18\n",
       "BIT                        10\n",
       "Koe                         6\n",
       "Islamic Education           5\n",
       "Law                         3\n",
       "BENL                        3\n",
       "Psychology                  3\n",
       "Kirkhs                      2\n",
       "MHSC                        1\n",
       "Malcom                      1\n",
       "Kop                         1\n",
       "Human Sciences              1\n",
       "Communication               1\n",
       "Biotechnology               1\n",
       "CTS                         1\n",
       "Diploma Nursing             1\n",
       "Radiography                 1\n",
       "Fiqh Fatwa                  1\n",
       "Diploma TESL                1\n",
       "Fiqh                        1\n",
       "Economics                   1\n",
       "TAASL                       1\n",
       "IT                          1\n",
       "Ala                         1\n",
       "Usuluddin                   1\n",
       "Business Administration     1\n",
       "Banking Studies             1\n",
       "Marine Science              1\n",
       "ENM                         1\n",
       "Accounting                  1\n",
       "KENMS                       1\n",
       "Irkhs                       1\n",
       "Human Resources             1\n",
       "Mathemathics                1\n",
       "Nursing                     1\n",
       "Name: count, dtype: int64"
      ]
     },
     "execution_count": 91,
     "metadata": {},
     "output_type": "execute_result"
    }
   ],
   "source": [
    "df.Course.value_counts()"
   ]
  },
  {
   "cell_type": "code",
   "execution_count": 92,
   "id": "f4a6af2e-8960-4af9-8183-ab7628d33fbf",
   "metadata": {},
   "outputs": [
    {
     "data": {
      "text/plain": [
       "Depression  Anxiety  Panic_Attack  Course        \n",
       "Yes         Yes      Yes           BIT               4\n",
       "                                   BCS               1\n",
       "                                   Communication     1\n",
       "                                   ENM               1\n",
       "                                   Koe               1\n",
       "                                   Marine Science    1\n",
       "                                   Psychology        1\n",
       "Name: count, dtype: int64"
      ]
     },
     "execution_count": 92,
     "metadata": {},
     "output_type": "execute_result"
    }
   ],
   "source": [
    "# Let's look at student mental health (SMH) in relation to Course\n",
    "SMH_Yes = (df[\"Depression\"] == \"Yes\") & (df[\"Anxiety\"] == \"Yes\") & (df[\"Panic_Attack\"] == \"Yes\")\n",
    "df.loc[SMH_Yes, [\"Depression\", \"Anxiety\", \"Panic_Attack\", \"Course\"]].value_counts()"
   ]
  },
  {
   "cell_type": "code",
   "execution_count": 93,
   "id": "f0db5e36-9edd-440d-8213-8120028a2f33",
   "metadata": {},
   "outputs": [
    {
     "data": {
      "text/plain": [
       "Depression  Anxiety  Panic_Attack  Course                 \n",
       "No          No       No            Engineering                8\n",
       "                                   BCS                        7\n",
       "                                   Islamic Education          3\n",
       "                                   Kirkhs                     2\n",
       "                                   Fiqh Fatwa                 1\n",
       "                                   Psychology                 1\n",
       "                                   Mathemathics               1\n",
       "                                   Koe                        1\n",
       "                                   Human Resources            1\n",
       "                                   Accounting                 1\n",
       "                                   Diploma Nursing            1\n",
       "                                   Business Administration    1\n",
       "                                   Biotechnology              1\n",
       "                                   Banking Studies            1\n",
       "                                   BIT                        1\n",
       "                                   BENL                       1\n",
       "                                   Radiography                1\n",
       "Name: count, dtype: int64"
      ]
     },
     "execution_count": 93,
     "metadata": {},
     "output_type": "execute_result"
    }
   ],
   "source": [
    "# Let's look at student without mental health (SMH) issues in relation to Course\n",
    "SMH_No = (df[\"Depression\"] == \"No\") & (df[\"Anxiety\"] == \"No\") & (df[\"Panic_Attack\"] == \"No\")\n",
    "df.loc[SMH_No, [\"Depression\", \"Anxiety\", \"Panic_Attack\", \"Course\"]].value_counts()"
   ]
  },
  {
   "cell_type": "code",
   "execution_count": 94,
   "id": "6a7b5e33-c5e6-4fd3-b64e-2397fb5de2fc",
   "metadata": {},
   "outputs": [
    {
     "data": {
      "text/plain": [
       "Depression  Course           \n",
       "Yes         Engineering          7\n",
       "            BIT                  5\n",
       "            BCS                  5\n",
       "            BENL                 2\n",
       "            Psychology           2\n",
       "            Koe                  2\n",
       "            Law                  2\n",
       "            Ala                  1\n",
       "            Malcom               1\n",
       "            Nursing              1\n",
       "            Marine Science       1\n",
       "            Islamic Education    1\n",
       "            MHSC                 1\n",
       "            Economics            1\n",
       "            ENM                  1\n",
       "            Communication        1\n",
       "            Usuluddin            1\n",
       "Name: count, dtype: int64"
      ]
     },
     "execution_count": 94,
     "metadata": {},
     "output_type": "execute_result"
    }
   ],
   "source": [
    "# Let's look at student mental health (SMH) in relation to Course\n",
    "# df[ df['Depression']=='Yes'].value_counts(subset=['Course'])\n",
    "Depression_Yes = (df[\"Depression\"] == \"Yes\")\n",
    "df.loc[Depression_Yes, [\"Depression\", \"Course\"]].value_counts()"
   ]
  },
  {
   "cell_type": "code",
   "execution_count": 95,
   "id": "225c04ee-5b2e-44e0-b7d0-fdf75539838b",
   "metadata": {},
   "outputs": [
    {
     "data": {
      "text/plain": [
       "Depression  Course                 \n",
       "No          Engineering                13\n",
       "            BCS                        13\n",
       "            BIT                         5\n",
       "            Koe                         4\n",
       "            Islamic Education           4\n",
       "            Kirkhs                      2\n",
       "            Accounting                  1\n",
       "            IT                          1\n",
       "            Radiography                 1\n",
       "            Psychology                  1\n",
       "            Mathemathics                1\n",
       "            Law                         1\n",
       "            Kop                         1\n",
       "            KENMS                       1\n",
       "            Irkhs                       1\n",
       "            Human Resources             1\n",
       "            Human Sciences              1\n",
       "            Fiqh Fatwa                  1\n",
       "            Fiqh                        1\n",
       "            Diploma TESL                1\n",
       "            Diploma Nursing             1\n",
       "            CTS                         1\n",
       "            Business Administration     1\n",
       "            Biotechnology               1\n",
       "            Banking Studies             1\n",
       "            BENL                        1\n",
       "            TAASL                       1\n",
       "Name: count, dtype: int64"
      ]
     },
     "execution_count": 95,
     "metadata": {},
     "output_type": "execute_result"
    }
   ],
   "source": [
    "# Let's look at students without Depression in relation to Course\n",
    "Depression_No = (df[\"Depression\"] == \"No\")\n",
    "df.loc[Depression_No, [\"Depression\", \"Course\"]].value_counts()"
   ]
  },
  {
   "cell_type": "code",
   "execution_count": 96,
   "id": "47110035-86b4-406c-a648-eae6d2a76f8c",
   "metadata": {},
   "outputs": [
    {
     "data": {
      "text/plain": [
       "Anxiety  Course           \n",
       "Yes      BIT                  8\n",
       "         BCS                  6\n",
       "         Engineering          4\n",
       "         Koe                  4\n",
       "         Psychology           2\n",
       "         BENL                 1\n",
       "         Communication        1\n",
       "         ENM                  1\n",
       "         Economics            1\n",
       "         Irkhs                1\n",
       "         Islamic Education    1\n",
       "         KENMS                1\n",
       "         Kop                  1\n",
       "         Law                  1\n",
       "         Marine Science       1\n",
       "Name: count, dtype: int64"
      ]
     },
     "execution_count": 96,
     "metadata": {},
     "output_type": "execute_result"
    }
   ],
   "source": [
    "# Let's look at student mental health (SMH) in relation to Course\n",
    "Anxiety_Yes = (df[\"Anxiety\"] == \"Yes\")\n",
    "df.loc[Anxiety_Yes, [\"Anxiety\", \"Course\"]].value_counts()"
   ]
  },
  {
   "cell_type": "code",
   "execution_count": 97,
   "id": "96a905c8-384d-476e-ba4e-8e0fcf6ab425",
   "metadata": {},
   "outputs": [
    {
     "data": {
      "text/plain": [
       "Anxiety  Course                 \n",
       "No       Engineering                16\n",
       "         BCS                        12\n",
       "         Islamic Education           4\n",
       "         BENL                        2\n",
       "         BIT                         2\n",
       "         Law                         2\n",
       "         Koe                         2\n",
       "         Kirkhs                      2\n",
       "         Accounting                  1\n",
       "         TAASL                       1\n",
       "         Radiography                 1\n",
       "         Psychology                  1\n",
       "         Nursing                     1\n",
       "         Mathemathics                1\n",
       "         Malcom                      1\n",
       "         MHSC                        1\n",
       "         Human Resources             1\n",
       "         IT                          1\n",
       "         Human Sciences              1\n",
       "         Ala                         1\n",
       "         Fiqh Fatwa                  1\n",
       "         Fiqh                        1\n",
       "         Diploma TESL                1\n",
       "         Diploma Nursing             1\n",
       "         CTS                         1\n",
       "         Business Administration     1\n",
       "         Biotechnology               1\n",
       "         Banking Studies             1\n",
       "         Usuluddin                   1\n",
       "Name: count, dtype: int64"
      ]
     },
     "execution_count": 97,
     "metadata": {},
     "output_type": "execute_result"
    }
   ],
   "source": [
    "# Let's look at students without Anxiety in relation to Course\n",
    "Anxiety_No = (df[\"Anxiety\"] == \"No\")\n",
    "df.loc[Anxiety_No, [\"Anxiety\", \"Course\"]].value_counts()"
   ]
  },
  {
   "cell_type": "code",
   "execution_count": 98,
   "id": "c5614c07-6b70-4482-b3df-9ea52e8f783b",
   "metadata": {},
   "outputs": [
    {
     "data": {
      "text/plain": [
       "Panic_Attack  Course           \n",
       "Yes           Engineering          6\n",
       "              BCS                  5\n",
       "              BIT                  4\n",
       "              Koe                  2\n",
       "              Ala                  1\n",
       "              Islamic Education    1\n",
       "              Psychology           1\n",
       "              Nursing              1\n",
       "              Marine Science       1\n",
       "              MHSC                 1\n",
       "              Law                  1\n",
       "              IT                   1\n",
       "              Irkhs                1\n",
       "              Human Sciences       1\n",
       "              Fiqh                 1\n",
       "              ENM                  1\n",
       "              Diploma TESL         1\n",
       "              Communication        1\n",
       "              CTS                  1\n",
       "              TAASL                1\n",
       "Name: count, dtype: int64"
      ]
     },
     "execution_count": 98,
     "metadata": {},
     "output_type": "execute_result"
    }
   ],
   "source": [
    "# Let's look at student mental health (SMH) in relation to Course\n",
    "Panic_Attack_Yes = (df[\"Panic_Attack\"] == \"Yes\")\n",
    "df.loc[Panic_Attack_Yes, [\"Panic_Attack\", \"Course\"]].value_counts()"
   ]
  },
  {
   "cell_type": "code",
   "execution_count": null,
   "id": "23ba37b5-7f56-4eaa-b361-d527f34306b2",
   "metadata": {},
   "outputs": [],
   "source": []
  },
  {
   "cell_type": "code",
   "execution_count": 99,
   "id": "e4f64124-e5a9-4c3e-975b-25cee9b71113",
   "metadata": {},
   "outputs": [
    {
     "data": {
      "text/plain": [
       "Panic_Attack  Course                 \n",
       "No            Engineering                14\n",
       "              BCS                        13\n",
       "              BIT                         6\n",
       "              Islamic Education           4\n",
       "              Koe                         4\n",
       "              BENL                        3\n",
       "              Kirkhs                      2\n",
       "              Psychology                  2\n",
       "              Law                         2\n",
       "              Accounting                  1\n",
       "              Radiography                 1\n",
       "              Mathemathics                1\n",
       "              Malcom                      1\n",
       "              Kop                         1\n",
       "              Human Resources             1\n",
       "              KENMS                       1\n",
       "              Fiqh Fatwa                  1\n",
       "              Economics                   1\n",
       "              Diploma Nursing             1\n",
       "              Business Administration     1\n",
       "              Biotechnology               1\n",
       "              Banking Studies             1\n",
       "              Usuluddin                   1\n",
       "Name: count, dtype: int64"
      ]
     },
     "execution_count": 99,
     "metadata": {},
     "output_type": "execute_result"
    }
   ],
   "source": [
    "# Let's look at students without Panic_Attack in relation to Course\n",
    "Panic_Attack_No = (df[\"Panic_Attack\"] == \"No\")\n",
    "df.loc[Panic_Attack_No, [\"Panic_Attack\", \"Course\"]].value_counts()"
   ]
  },
  {
   "cell_type": "code",
   "execution_count": 100,
   "id": "e2d48e77-e0df-4ca6-980d-01b4689d1542",
   "metadata": {},
   "outputs": [
    {
     "name": "stderr",
     "output_type": "stream",
     "text": [
      "C:\\Users\\user\\anaconda3\\Lib\\site-packages\\seaborn\\matrix.py:260: FutureWarning: Format strings passed to MaskedConstant are ignored, but in future may error or produce different behavior\n",
      "  annotation = (\"{:\" + self.fmt + \"}\").format(val)\n"
     ]
    },
    {
     "data": {
      "image/png": "[encoded data removed]",
      "text/plain": [
       "<Figure size 1000x800 with 2 Axes>"
      ]
     },
     "metadata": {},
     "output_type": "display_data"
    }
   ],
   "source": [
    "# create a pivot table to count the occurrences\n",
    "pivot_table = pd.pivot_table(df, index=['Course'], columns = ['Depression', 'Anxiety', 'Panic_Attack'], aggfunc = 'size')\n",
    "\n",
    "# create a heatmap\n",
    "plt.figure(figsize=(10, 8))\n",
    "sns.heatmap(pivot_table, cmap='coolwarm', annot=True)#, #fmt='d')\n",
    "\n",
    "# add title and labels\n",
    "plt.title('Heatmap of Depression, Anxiety, and Panic_Attack vs Course')\n",
    "\n",
    "# display the plot\n",
    "plt.show()"
   ]
  },
  {
   "cell_type": "markdown",
   "id": "d97d13af-83e4-4196-8ab3-50d9e8bf93b4",
   "metadata": {},
   "source": [
    "From the heatmap, we can deduce that students of Engineering are most with Mental Health issues."
   ]
  },
  {
   "cell_type": "markdown",
   "id": "f8f3c6ba-a095-4cfc-8787-98873dd69f3f",
   "metadata": {},
   "source": [
    "### Analyzing The Study_Year"
   ]
  },
  {
   "cell_type": "code",
   "execution_count": 101,
   "id": "97674a9c-2c20-4061-a97d-7e9561fcbf62",
   "metadata": {},
   "outputs": [
    {
     "data": {
      "text/plain": [
       "Depression  Anxiety  Panic_Attack  Study_Year\n",
       "Yes         Yes      Yes           Year 1        4\n",
       "                                   Year 3        3\n",
       "                                   Year 2        2\n",
       "                                   Year 4        1\n",
       "Name: count, dtype: int64"
      ]
     },
     "execution_count": 101,
     "metadata": {},
     "output_type": "execute_result"
    }
   ],
   "source": [
    "# Let's look at student mental health (SMH) in relation to Study_Year\n",
    "SMH_Yes = (df[\"Depression\"] == \"Yes\") & (df[\"Anxiety\"] == \"Yes\") & (df[\"Panic_Attack\"] == \"Yes\")\n",
    "df.loc[SMH_Yes, [\"Depression\", \"Anxiety\", \"Panic_Attack\", \"Study_Year\"]].value_counts()"
   ]
  },
  {
   "cell_type": "code",
   "execution_count": 102,
   "id": "41a4bf50-9ef3-4e08-9f70-0271b9cd820b",
   "metadata": {},
   "outputs": [
    {
     "data": {
      "text/plain": [
       "Depression  Anxiety  Panic_Attack  Study_Year\n",
       "No          No       No            Year 1        18\n",
       "                                   Year 2         7\n",
       "                                   Year 3         6\n",
       "                                   Year 4         6\n",
       "Name: count, dtype: int64"
      ]
     },
     "execution_count": 102,
     "metadata": {},
     "output_type": "execute_result"
    }
   ],
   "source": [
    "# Let's look at student without mental health (SMH) issues in relation to Study_Year\n",
    "SMH_No = (df[\"Depression\"] == \"No\") & (df[\"Anxiety\"] == \"No\") & (df[\"Panic_Attack\"] == \"No\")\n",
    "df.loc[SMH_No, [\"Depression\", \"Anxiety\", \"Panic_Attack\", \"Study_Year\"]].value_counts()"
   ]
  },
  {
   "cell_type": "code",
   "execution_count": 103,
   "id": "4e3d878e-925e-4451-8675-e42932d195d3",
   "metadata": {},
   "outputs": [
    {
     "data": {
      "text/plain": [
       "Depression  Study_Year\n",
       "Yes         Year 1        14\n",
       "            Year 2        10\n",
       "            Year 3        10\n",
       "            Year 4         1\n",
       "Name: count, dtype: int64"
      ]
     },
     "execution_count": 103,
     "metadata": {},
     "output_type": "execute_result"
    }
   ],
   "source": [
    "# Let's look at students with Depression in relation to Study_Year\n",
    "# df[ df['Depression']=='Yes'].value_counts(subset=['Study_Year'])\n",
    "Depression_Yes = (df[\"Depression\"] == \"Yes\")\n",
    "df.loc[Depression_Yes, [\"Depression\", \"Study_Year\"]].value_counts()"
   ]
  },
  {
   "cell_type": "code",
   "execution_count": 104,
   "id": "4595fb47-5701-43fb-98db-fd4d6d379209",
   "metadata": {},
   "outputs": [
    {
     "data": {
      "text/plain": [
       "Depression  Study_Year\n",
       "No          Year 1        29\n",
       "            Year 2        16\n",
       "            Year 3        14\n",
       "            Year 4         7\n",
       "Name: count, dtype: int64"
      ]
     },
     "execution_count": 104,
     "metadata": {},
     "output_type": "execute_result"
    }
   ],
   "source": [
    "# Let's look at students without Depression in relation to Study_Year\n",
    "Depression_No = (df[\"Depression\"] == \"No\")\n",
    "df.loc[Depression_No, [\"Depression\", \"Study_Year\"]].value_counts()"
   ]
  },
  {
   "cell_type": "code",
   "execution_count": 105,
   "id": "9484b62c-a644-450f-abd2-bfc651a200f1",
   "metadata": {},
   "outputs": [
    {
     "data": {
      "text/plain": [
       "Anxiety  Study_Year\n",
       "Yes      Year 1        14\n",
       "         Year 2        10\n",
       "         Year 3         8\n",
       "         Year 4         2\n",
       "Name: count, dtype: int64"
      ]
     },
     "execution_count": 105,
     "metadata": {},
     "output_type": "execute_result"
    }
   ],
   "source": [
    "# Let's look at students with Anxiety in relation to Study_Year\n",
    "Anxiety_Yes = (df[\"Anxiety\"] == \"Yes\")\n",
    "df.loc[Anxiety_Yes, [\"Anxiety\", \"Study_Year\"]].value_counts()"
   ]
  },
  {
   "cell_type": "code",
   "execution_count": 106,
   "id": "8dcfc691-263e-477f-8ed8-58c0f97112a0",
   "metadata": {},
   "outputs": [
    {
     "data": {
      "text/plain": [
       "Anxiety  Study_Year\n",
       "No       Year 1        29\n",
       "         Year 2        16\n",
       "         Year 3        16\n",
       "         Year 4         6\n",
       "Name: count, dtype: int64"
      ]
     },
     "execution_count": 106,
     "metadata": {},
     "output_type": "execute_result"
    }
   ],
   "source": [
    "# Let's look at students without Anxiety in relation to Study_Year\n",
    "Anxiety_No = (df[\"Anxiety\"] == \"No\")\n",
    "df.loc[Anxiety_No, [\"Anxiety\", \"Study_Year\"]].value_counts()"
   ]
  },
  {
   "cell_type": "code",
   "execution_count": 107,
   "id": "fe60b413-0db6-4b77-9ec9-63e317b36421",
   "metadata": {},
   "outputs": [
    {
     "data": {
      "text/plain": [
       "Panic_Attack  Study_Year\n",
       "Yes           Year 1        14\n",
       "              Year 3        10\n",
       "              Year 2         8\n",
       "              Year 4         1\n",
       "Name: count, dtype: int64"
      ]
     },
     "execution_count": 107,
     "metadata": {},
     "output_type": "execute_result"
    }
   ],
   "source": [
    "# Let's look at students with Panic_Attack in relation to Study_Year\n",
    "Panic_Attack_Yes = (df[\"Panic_Attack\"] == \"Yes\")\n",
    "df.loc[Panic_Attack_Yes, [\"Panic_Attack\", \"Study_Year\"]].value_counts()"
   ]
  },
  {
   "cell_type": "code",
   "execution_count": 108,
   "id": "1365dd6a-1fe1-4b74-a9eb-b0bbb3786e86",
   "metadata": {},
   "outputs": [
    {
     "data": {
      "text/plain": [
       "Panic_Attack  Study_Year\n",
       "No            Year 1        29\n",
       "              Year 2        18\n",
       "              Year 3        14\n",
       "              Year 4         7\n",
       "Name: count, dtype: int64"
      ]
     },
     "execution_count": 108,
     "metadata": {},
     "output_type": "execute_result"
    }
   ],
   "source": [
    "# Let's look at students without Panic_Attack in relation to Study_Year\n",
    "Panic_Attack_No = (df[\"Panic_Attack\"] == \"No\")\n",
    "df.loc[Panic_Attack_No, [\"Panic_Attack\", \"Study_Year\"]].value_counts()"
   ]
  },
  {
   "cell_type": "code",
   "execution_count": 109,
   "id": "68bd35b0-7898-42d2-a745-63b0c55a9672",
   "metadata": {},
   "outputs": [
    {
     "data": {
      "image/png": "[encoded data removed]",
      "text/plain": [
       "<Figure size 1000x800 with 2 Axes>"
      ]
     },
     "metadata": {},
     "output_type": "display_data"
    }
   ],
   "source": [
    "# create a pivot table to count the occurrences\n",
    "pivot_table = pd.pivot_table(df, index=['Study_Year'], columns = ['Depression', 'Anxiety', 'Panic_Attack'], aggfunc = 'size')\n",
    "\n",
    "# create a heatmap\n",
    "plt.figure(figsize=(10, 8))\n",
    "sns.heatmap(pivot_table, cmap='coolwarm', annot=True)#, #fmt='d')\n",
    "\n",
    "# add title and labels\n",
    "plt.title('Heatmap of Depression, Anxiety, and Panic_Attack vs Study_Year')\n",
    "\n",
    "# display the plot\n",
    "plt.show()"
   ]
  },
  {
   "cell_type": "markdown",
   "id": "133856ce-b1f3-47f9-a76a-605625d4a92f",
   "metadata": {},
   "source": [
    "From the heatmap, we can deduce that Year 1 students are most affected with Mental Health issues."
   ]
  },
  {
   "cell_type": "markdown",
   "id": "77f6258f-f5ab-4e7f-a4fd-4c05377f70ae",
   "metadata": {},
   "source": [
    "### Analyzing The CGPA"
   ]
  },
  {
   "cell_type": "code",
   "execution_count": 110,
   "id": "91295c51-8603-4899-acdb-57cb320b0c92",
   "metadata": {},
   "outputs": [
    {
     "data": {
      "text/plain": [
       "Depression  Anxiety  Panic_Attack  CGPA       \n",
       "Yes         Yes      Yes           3.50 - 4.00    5\n",
       "                                   3.00 - 3.49    4\n",
       "                                   2.50 - 2.99    1\n",
       "Name: count, dtype: int64"
      ]
     },
     "execution_count": 110,
     "metadata": {},
     "output_type": "execute_result"
    }
   ],
   "source": [
    "# Let's look at student mental health (SMH) in relation to CGPA\n",
    "SMH_Yes = (df[\"Depression\"] == \"Yes\") & (df[\"Anxiety\"] == \"Yes\") & (df[\"Panic_Attack\"] == \"Yes\")\n",
    "df.loc[SMH_Yes, [\"Depression\", \"Anxiety\", \"Panic_Attack\", \"CGPA\"]].value_counts()"
   ]
  },
  {
   "cell_type": "code",
   "execution_count": 111,
   "id": "e2246674-ad12-4686-b420-0a847a110c66",
   "metadata": {},
   "outputs": [
    {
     "data": {
      "text/plain": [
       "Depression  Anxiety  Panic_Attack  CGPA       \n",
       "No          No       No            3.50 - 4.00    17\n",
       "                                   3.00 - 3.49    15\n",
       "                                   0 - 1.99        3\n",
       "                                   2.00 - 2.49     1\n",
       "                                   2.50 - 2.99     1\n",
       "Name: count, dtype: int64"
      ]
     },
     "execution_count": 111,
     "metadata": {},
     "output_type": "execute_result"
    }
   ],
   "source": [
    "# Let's look at student without mental health (SMH) issues in relation to CGPA\n",
    "SMH_No = (df[\"Depression\"] == \"No\") & (df[\"Anxiety\"] == \"No\") & (df[\"Panic_Attack\"] == \"No\")\n",
    "df.loc[SMH_No, [\"Depression\", \"Anxiety\", \"Panic_Attack\", \"CGPA\"]].value_counts()"
   ]
  },
  {
   "cell_type": "code",
   "execution_count": 112,
   "id": "03850666-4984-4fe6-9cfa-2cdbc45768e3",
   "metadata": {},
   "outputs": [
    {
     "data": {
      "text/plain": [
       "Depression  CGPA        \n",
       "Yes         3.00 - 3.49     19\n",
       "            3.50 - 4.00     12\n",
       "            2.50 - 2.99      3\n",
       "            3.50 - 4.00      1\n",
       "Name: count, dtype: int64"
      ]
     },
     "execution_count": 112,
     "metadata": {},
     "output_type": "execute_result"
    }
   ],
   "source": [
    "# Let's look at students with Depression in relation to CGPA\n",
    "# df[ df['Depression']=='Yes'].value_counts(subset=['CGPA'])\n",
    "Depression_Yes = (df[\"Depression\"] == \"Yes\")\n",
    "df.loc[Depression_Yes, [\"Depression\", \"CGPA\"]].value_counts()"
   ]
  },
  {
   "cell_type": "code",
   "execution_count": 113,
   "id": "ce8f154c-f439-47a6-9c55-dcaea2f79f2e",
   "metadata": {},
   "outputs": [
    {
     "data": {
      "text/plain": [
       "Depression  CGPA       \n",
       "No          3.50 - 4.00    35\n",
       "            3.00 - 3.49    24\n",
       "            0 - 1.99        4\n",
       "            2.00 - 2.49     2\n",
       "            2.50 - 2.99     1\n",
       "Name: count, dtype: int64"
      ]
     },
     "execution_count": 113,
     "metadata": {},
     "output_type": "execute_result"
    }
   ],
   "source": [
    "# Let's look at students without Depression in relation to CGPA\n",
    "Depression_No = (df[\"Depression\"] == \"No\")\n",
    "df.loc[Depression_No, [\"Depression\", \"CGPA\"]].value_counts()"
   ]
  },
  {
   "cell_type": "code",
   "execution_count": 114,
   "id": "c361d116-43b5-45c8-b2f5-8dd19ebf3dbd",
   "metadata": {},
   "outputs": [
    {
     "data": {
      "text/plain": [
       "Anxiety  CGPA       \n",
       "Yes      3.50 - 4.00    18\n",
       "         3.00 - 3.49    15\n",
       "         2.50 - 2.99     1\n",
       "Name: count, dtype: int64"
      ]
     },
     "execution_count": 114,
     "metadata": {},
     "output_type": "execute_result"
    }
   ],
   "source": [
    "# Let's look at students with Anxiety in relation to CGPA\n",
    "Anxiety_Yes = (df[\"Anxiety\"] == \"Yes\")\n",
    "df.loc[Anxiety_Yes, [\"Anxiety\", \"CGPA\"]].value_counts()"
   ]
  },
  {
   "cell_type": "code",
   "execution_count": 115,
   "id": "3a581df7-3fc0-4d73-a96b-bc114dff6c44",
   "metadata": {},
   "outputs": [
    {
     "data": {
      "text/plain": [
       "Anxiety  CGPA        \n",
       "No       3.50 - 4.00     29\n",
       "         3.00 - 3.49     28\n",
       "         0 - 1.99         4\n",
       "         2.50 - 2.99      3\n",
       "         2.00 - 2.49      2\n",
       "         3.50 - 4.00      1\n",
       "Name: count, dtype: int64"
      ]
     },
     "execution_count": 115,
     "metadata": {},
     "output_type": "execute_result"
    }
   ],
   "source": [
    "# Let's look at students without Anxiety in relation to CGPA\n",
    "Anxiety_No = (df[\"Anxiety\"] == \"No\")\n",
    "df.loc[Anxiety_No, [\"Anxiety\", \"CGPA\"]].value_counts()"
   ]
  },
  {
   "cell_type": "code",
   "execution_count": 116,
   "id": "6e0c6199-393e-4d53-af2d-f437cc492416",
   "metadata": {},
   "outputs": [
    {
     "data": {
      "text/plain": [
       "Panic_Attack  CGPA        \n",
       "Yes           3.50 - 4.00     18\n",
       "              3.00 - 3.49      9\n",
       "              2.50 - 2.99      3\n",
       "              0 - 1.99         1\n",
       "              2.00 - 2.49      1\n",
       "              3.50 - 4.00      1\n",
       "Name: count, dtype: int64"
      ]
     },
     "execution_count": 116,
     "metadata": {},
     "output_type": "execute_result"
    }
   ],
   "source": [
    "# Let's look at students with Panic_Attack in relation to CGPA\n",
    "Panic_Attack_Yes = (df[\"Panic_Attack\"] == \"Yes\")\n",
    "df.loc[Panic_Attack_Yes, [\"Panic_Attack\", \"CGPA\"]].value_counts()"
   ]
  },
  {
   "cell_type": "code",
   "execution_count": 117,
   "id": "ddf5c4ba-31e0-4611-b4d3-66ff132a1ab5",
   "metadata": {},
   "outputs": [
    {
     "data": {
      "text/plain": [
       "Panic_Attack  CGPA       \n",
       "No            3.00 - 3.49    34\n",
       "              3.50 - 4.00    29\n",
       "              0 - 1.99        3\n",
       "              2.00 - 2.49     1\n",
       "              2.50 - 2.99     1\n",
       "Name: count, dtype: int64"
      ]
     },
     "execution_count": 117,
     "metadata": {},
     "output_type": "execute_result"
    }
   ],
   "source": [
    "# Let's look at students without Panic_Attack in relation to CGPA\n",
    "Panic_Attack_No = (df[\"Panic_Attack\"] == \"No\")\n",
    "df.loc[Panic_Attack_No, [\"Panic_Attack\", \"CGPA\"]].value_counts()"
   ]
  },
  {
   "cell_type": "code",
   "execution_count": 118,
   "id": "c5ea05e8-775b-40c4-a013-ef3060b2951e",
   "metadata": {},
   "outputs": [
    {
     "name": "stderr",
     "output_type": "stream",
     "text": [
      "C:\\Users\\user\\anaconda3\\Lib\\site-packages\\seaborn\\matrix.py:260: FutureWarning: Format strings passed to MaskedConstant are ignored, but in future may error or produce different behavior\n",
      "  annotation = (\"{:\" + self.fmt + \"}\").format(val)\n"
     ]
    },
    {
     "data": {
      "image/png": "[encoded data removed]",
      "text/plain": [
       "<Figure size 1000x800 with 2 Axes>"
      ]
     },
     "metadata": {},
     "output_type": "display_data"
    }
   ],
   "source": [
    "# create a pivot table to count the occurrences\n",
    "pivot_table = pd.pivot_table(df, index=['CGPA'], columns = ['Depression', 'Anxiety', 'Panic_Attack'], aggfunc = 'size')\n",
    "\n",
    "# create a heatmap\n",
    "plt.figure(figsize=(10, 8))\n",
    "sns.heatmap(pivot_table, cmap='coolwarm', annot=True)#, #fmt='d')\n",
    "\n",
    "# add title and labels\n",
    "plt.title('Heatmap of Depression, Anxiety, and Panic_Attack vs CGPA')\n",
    "\n",
    "# display the plot\n",
    "plt.show()"
   ]
  },
  {
   "cell_type": "markdown",
   "id": "b365fb57-f370-4101-960b-3456107cd539",
   "metadata": {},
   "source": [
    "From the heatmap, we can that the students with pridominant Mrntal Health are among students with best CGPA.\n",
    "\n",
    "We can conclude that Mental Health had no effect on the students CGPA"
   ]
  },
  {
   "cell_type": "markdown",
   "id": "0e6e96b6-3936-4b7a-bd3d-3bc2c9948172",
   "metadata": {},
   "source": [
    "### Analyzing The Marital_Status"
   ]
  },
  {
   "cell_type": "code",
   "execution_count": 119,
   "id": "e63b8fbb-0bdb-40f2-a7e3-c56b998ce9ae",
   "metadata": {},
   "outputs": [
    {
     "data": {
      "text/plain": [
       "Depression  Anxiety  Panic_Attack  Marital_Status\n",
       "Yes         Yes      Yes           No                5\n",
       "                                   Yes               5\n",
       "Name: count, dtype: int64"
      ]
     },
     "execution_count": 119,
     "metadata": {},
     "output_type": "execute_result"
    }
   ],
   "source": [
    "# Let's look at student mental health (SMH) in relation to Marital_Status\n",
    "SMH_Yes = (df[\"Depression\"] == \"Yes\") & (df[\"Anxiety\"] == \"Yes\") & (df[\"Panic_Attack\"] == \"Yes\")\n",
    "df.loc[SMH_Yes, [\"Depression\", \"Anxiety\", \"Panic_Attack\", \"Marital_Status\"]].value_counts()"
   ]
  },
  {
   "cell_type": "code",
   "execution_count": 120,
   "id": "960d6a7f-4634-46e1-80fc-951b03e06093",
   "metadata": {},
   "outputs": [
    {
     "data": {
      "text/plain": [
       "Depression  Anxiety  Panic_Attack  Marital_Status\n",
       "No          No       No            No                37\n",
       "Name: count, dtype: int64"
      ]
     },
     "execution_count": 120,
     "metadata": {},
     "output_type": "execute_result"
    }
   ],
   "source": [
    "# Let's look at student without mental health (SMH) issues in relation to Marital_Status\n",
    "SMH_No = (df[\"Depression\"] == \"No\") & (df[\"Anxiety\"] == \"No\") & (df[\"Panic_Attack\"] == \"No\")\n",
    "df.loc[SMH_No, [\"Depression\", \"Anxiety\", \"Panic_Attack\", \"Marital_Status\"]].value_counts()"
   ]
  },
  {
   "cell_type": "code",
   "execution_count": 121,
   "id": "c637a2e6-02c2-4000-8776-bf7df84e1644",
   "metadata": {},
   "outputs": [
    {
     "data": {
      "text/plain": [
       "Depression  Marital_Status\n",
       "Yes         No                19\n",
       "            Yes               16\n",
       "Name: count, dtype: int64"
      ]
     },
     "execution_count": 121,
     "metadata": {},
     "output_type": "execute_result"
    }
   ],
   "source": [
    "# Let's look at students with Depression in relation to Marital_Status\n",
    "# df[ df['Depression']=='Yes'].value_counts(subset=['Marital_Status'])\n",
    "Depression_Yes = (df[\"Depression\"] == \"Yes\")\n",
    "df.loc[Depression_Yes, [\"Depression\", \"Marital_Status\"]].value_counts()"
   ]
  },
  {
   "cell_type": "code",
   "execution_count": 122,
   "id": "a6fba7fe-4358-4852-8831-02026cef9b71",
   "metadata": {},
   "outputs": [
    {
     "data": {
      "text/plain": [
       "Depression  Marital_Status\n",
       "No          No                66\n",
       "Name: count, dtype: int64"
      ]
     },
     "execution_count": 122,
     "metadata": {},
     "output_type": "execute_result"
    }
   ],
   "source": [
    "# Let's look at students without Depression in relation to Marital_Status\n",
    "Depression_No = (df[\"Depression\"] == \"No\")\n",
    "df.loc[Depression_No, [\"Depression\", \"Marital_Status\"]].value_counts()"
   ]
  },
  {
   "cell_type": "code",
   "execution_count": 123,
   "id": "0454da82-d6d4-423e-8b7f-5cbf1111c510",
   "metadata": {},
   "outputs": [
    {
     "data": {
      "text/plain": [
       "Anxiety  Marital_Status\n",
       "Yes      No                27\n",
       "         Yes                7\n",
       "Name: count, dtype: int64"
      ]
     },
     "execution_count": 123,
     "metadata": {},
     "output_type": "execute_result"
    }
   ],
   "source": [
    "# Let's look at students with Anxiety in relation to Marital_Status\n",
    "Anxiety_Yes = (df[\"Anxiety\"] == \"Yes\")\n",
    "df.loc[Anxiety_Yes, [\"Anxiety\", \"Marital_Status\"]].value_counts()"
   ]
  },
  {
   "cell_type": "code",
   "execution_count": 124,
   "id": "920d8318-bb57-4060-882a-18baa2cc884f",
   "metadata": {},
   "outputs": [
    {
     "data": {
      "text/plain": [
       "Anxiety  Marital_Status\n",
       "No       No                58\n",
       "         Yes                9\n",
       "Name: count, dtype: int64"
      ]
     },
     "execution_count": 124,
     "metadata": {},
     "output_type": "execute_result"
    }
   ],
   "source": [
    "# Let's look at students without Anxiety in relation to Marital_Status\n",
    "Anxiety_No = (df[\"Anxiety\"] == \"No\")\n",
    "df.loc[Anxiety_No, [\"Anxiety\", \"Marital_Status\"]].value_counts()"
   ]
  },
  {
   "cell_type": "code",
   "execution_count": 125,
   "id": "f10a0ea4-7dce-46a4-b2dd-ad59f6d0e86b",
   "metadata": {},
   "outputs": [
    {
     "data": {
      "text/plain": [
       "Panic_Attack  Marital_Status\n",
       "Yes           No                23\n",
       "              Yes               10\n",
       "Name: count, dtype: int64"
      ]
     },
     "execution_count": 125,
     "metadata": {},
     "output_type": "execute_result"
    }
   ],
   "source": [
    "# Let's look at students with Panic_Attack in relation to Marital_Status\n",
    "Panic_Attack_Yes = (df[\"Panic_Attack\"] == \"Yes\")\n",
    "df.loc[Panic_Attack_Yes, [\"Panic_Attack\", \"Marital_Status\"]].value_counts()"
   ]
  },
  {
   "cell_type": "code",
   "execution_count": 126,
   "id": "e92e445b-1e3b-42da-b5f9-894fe8c1ca2b",
   "metadata": {},
   "outputs": [
    {
     "data": {
      "text/plain": [
       "Panic_Attack  Marital_Status\n",
       "No            No                62\n",
       "              Yes                6\n",
       "Name: count, dtype: int64"
      ]
     },
     "execution_count": 126,
     "metadata": {},
     "output_type": "execute_result"
    }
   ],
   "source": [
    "# Let's look at students without Panic_Attack in relation to Marital_Status\n",
    "Panic_Attack_No = (df[\"Panic_Attack\"] == \"No\")\n",
    "df.loc[Panic_Attack_No, [\"Panic_Attack\", \"Marital_Status\"]].value_counts()"
   ]
  },
  {
   "cell_type": "code",
   "execution_count": 127,
   "id": "e2fe9205-3068-4871-8172-0b4189c27d61",
   "metadata": {},
   "outputs": [
    {
     "data": {
      "image/png": "[encoded data removed]",
      "text/plain": [
       "<Figure size 1000x800 with 2 Axes>"
      ]
     },
     "metadata": {},
     "output_type": "display_data"
    }
   ],
   "source": [
    "# create a pivot table to count the occurrences\n",
    "pivot_table = pd.pivot_table(df, index=['Marital_Status'], columns = ['Depression', 'Anxiety', 'Panic_Attack'], aggfunc = 'size')\n",
    "\n",
    "# create a heatmap\n",
    "plt.figure(figsize=(10, 8))\n",
    "sns.heatmap(pivot_table, cmap='coolwarm', annot=True)#, #fmt='d')\n",
    "\n",
    "# add title and labels\n",
    "plt.title('Heatmap of Depression, Anxiety, and Panic_Attack vs Marital_Status')\n",
    "\n",
    "# display the plot\n",
    "plt.show()"
   ]
  },
  {
   "cell_type": "markdown",
   "id": "a82a4462-610c-4247-931d-32b152bd6895",
   "metadata": {},
   "source": [
    "From the heatmap, we can deduce that married students have stable Mental Health than the single students."
   ]
  },
  {
   "cell_type": "raw",
   "id": "988f5a40-1edc-4045-8839-bf09cd9d5234",
   "metadata": {},
   "source": []
  },
  {
   "cell_type": "code",
   "execution_count": 128,
   "id": "80dde6df-62b3-4b9f-8f52-1e6a1f3c1ac8",
   "metadata": {},
   "outputs": [
    {
     "data": {
      "text/html": [
       "<div>\n",
       "<style scoped>\n",
       "    .dataframe tbody tr th:only-of-type {\n",
       "        vertical-align: middle;\n",
       "    }\n",
       "\n",
       "    .dataframe tbody tr th {\n",
       "        vertical-align: top;\n",
       "    }\n",
       "\n",
       "    .dataframe thead th {\n",
       "        text-align: right;\n",
       "    }\n",
       "</style>\n",
       "<table border=\"1\" class=\"dataframe\">\n",
       "  <thead>\n",
       "    <tr style=\"text-align: right;\">\n",
       "      <th></th>\n",
       "      <th>Timestamp</th>\n",
       "      <th>Gender</th>\n",
       "      <th>Age</th>\n",
       "      <th>Course</th>\n",
       "      <th>Study_Year</th>\n",
       "      <th>CGPA</th>\n",
       "      <th>Marital_Status</th>\n",
       "      <th>Depression</th>\n",
       "      <th>Anxiety</th>\n",
       "      <th>Panic_Attack</th>\n",
       "      <th>Treatment</th>\n",
       "    </tr>\n",
       "  </thead>\n",
       "  <tbody>\n",
       "    <tr>\n",
       "      <th>0</th>\n",
       "      <td>8/7/2020 12:02</td>\n",
       "      <td>Female</td>\n",
       "      <td>18.0</td>\n",
       "      <td>Engineering</td>\n",
       "      <td>Year 1</td>\n",
       "      <td>3.00 - 3.49</td>\n",
       "      <td>No</td>\n",
       "      <td>Yes</td>\n",
       "      <td>No</td>\n",
       "      <td>Yes</td>\n",
       "      <td>No</td>\n",
       "    </tr>\n",
       "    <tr>\n",
       "      <th>1</th>\n",
       "      <td>8/7/2020 12:04</td>\n",
       "      <td>Male</td>\n",
       "      <td>21.0</td>\n",
       "      <td>Islamic Education</td>\n",
       "      <td>Year 2</td>\n",
       "      <td>3.00 - 3.49</td>\n",
       "      <td>No</td>\n",
       "      <td>No</td>\n",
       "      <td>Yes</td>\n",
       "      <td>No</td>\n",
       "      <td>No</td>\n",
       "    </tr>\n",
       "    <tr>\n",
       "      <th>2</th>\n",
       "      <td>8/7/2020 12:05</td>\n",
       "      <td>Male</td>\n",
       "      <td>19.0</td>\n",
       "      <td>BIT</td>\n",
       "      <td>Year 1</td>\n",
       "      <td>3.00 - 3.49</td>\n",
       "      <td>No</td>\n",
       "      <td>Yes</td>\n",
       "      <td>Yes</td>\n",
       "      <td>Yes</td>\n",
       "      <td>No</td>\n",
       "    </tr>\n",
       "    <tr>\n",
       "      <th>3</th>\n",
       "      <td>8/7/2020 12:06</td>\n",
       "      <td>Female</td>\n",
       "      <td>22.0</td>\n",
       "      <td>Law</td>\n",
       "      <td>Year 3</td>\n",
       "      <td>3.00 - 3.49</td>\n",
       "      <td>Yes</td>\n",
       "      <td>Yes</td>\n",
       "      <td>No</td>\n",
       "      <td>No</td>\n",
       "      <td>No</td>\n",
       "    </tr>\n",
       "    <tr>\n",
       "      <th>4</th>\n",
       "      <td>8/7/2020 12:13</td>\n",
       "      <td>Male</td>\n",
       "      <td>23.0</td>\n",
       "      <td>Mathemathics</td>\n",
       "      <td>Year 4</td>\n",
       "      <td>3.00 - 3.49</td>\n",
       "      <td>No</td>\n",
       "      <td>No</td>\n",
       "      <td>No</td>\n",
       "      <td>No</td>\n",
       "      <td>No</td>\n",
       "    </tr>\n",
       "  </tbody>\n",
       "</table>\n",
       "</div>"
      ],
      "text/plain": [
       "        Timestamp  Gender   Age             Course Study_Year         CGPA  \\\n",
       "0  8/7/2020 12:02  Female  18.0        Engineering     Year 1  3.00 - 3.49   \n",
       "1  8/7/2020 12:04    Male  21.0  Islamic Education     Year 2  3.00 - 3.49   \n",
       "2  8/7/2020 12:05    Male  19.0                BIT     Year 1  3.00 - 3.49   \n",
       "3  8/7/2020 12:06  Female  22.0                Law     Year 3  3.00 - 3.49   \n",
       "4  8/7/2020 12:13    Male  23.0       Mathemathics     Year 4  3.00 - 3.49   \n",
       "\n",
       "  Marital_Status Depression Anxiety Panic_Attack Treatment  \n",
       "0             No        Yes      No          Yes        No  \n",
       "1             No         No     Yes           No        No  \n",
       "2             No        Yes     Yes          Yes        No  \n",
       "3            Yes        Yes      No           No        No  \n",
       "4             No         No      No           No        No  "
      ]
     },
     "execution_count": 128,
     "metadata": {},
     "output_type": "execute_result"
    }
   ],
   "source": [
    "# called down for easy view \n",
    "df.head()"
   ]
  },
  {
   "cell_type": "raw",
   "id": "be304330-38a7-4e11-b552-5f4c269c2584",
   "metadata": {},
   "source": []
  },
  {
   "cell_type": "markdown",
   "id": "51e5bd3a-7d89-4c35-b0b1-152f22b0eb5a",
   "metadata": {},
   "source": [
    "### Correlation coefficients with CGPA"
   ]
  },
  {
   "cell_type": "code",
   "execution_count": 129,
   "id": "a4998311-b834-43d3-973e-4e273ce25cc5",
   "metadata": {},
   "outputs": [],
   "source": [
    "# Define a function to convert string range to midpoint value\n",
    "\n",
    "def convert_range_to_float(range_str):\n",
    "    start, end = map(float, range_str.split(' - '))\n",
    "    return (start + end) / 2\n",
    "\n",
    "# Apply the function to the column\n",
    "\n",
    "df['CGPA'] = df['CGPA'].apply(convert_range_to_float)\n"
   ]
  },
  {
   "cell_type": "code",
   "execution_count": 130,
   "id": "3ce2e85c-b503-4a0f-bb27-2a3a3747c90a",
   "metadata": {},
   "outputs": [
    {
     "data": {
      "text/html": [
       "<div>\n",
       "<style scoped>\n",
       "    .dataframe tbody tr th:only-of-type {\n",
       "        vertical-align: middle;\n",
       "    }\n",
       "\n",
       "    .dataframe tbody tr th {\n",
       "        vertical-align: top;\n",
       "    }\n",
       "\n",
       "    .dataframe thead th {\n",
       "        text-align: right;\n",
       "    }\n",
       "</style>\n",
       "<table border=\"1\" class=\"dataframe\">\n",
       "  <thead>\n",
       "    <tr style=\"text-align: right;\">\n",
       "      <th></th>\n",
       "      <th>CGPA</th>\n",
       "      <th>Study_Year</th>\n",
       "    </tr>\n",
       "  </thead>\n",
       "  <tbody>\n",
       "    <tr>\n",
       "      <th>0</th>\n",
       "      <td>3.245</td>\n",
       "      <td>Year 1</td>\n",
       "    </tr>\n",
       "    <tr>\n",
       "      <th>1</th>\n",
       "      <td>3.245</td>\n",
       "      <td>Year 2</td>\n",
       "    </tr>\n",
       "  </tbody>\n",
       "</table>\n",
       "</div>"
      ],
      "text/plain": [
       "    CGPA Study_Year\n",
       "0  3.245     Year 1\n",
       "1  3.245     Year 2"
      ]
     },
     "execution_count": 130,
     "metadata": {},
     "output_type": "execute_result"
    }
   ],
   "source": [
    "df[['CGPA', 'Study_Year']].head(2)"
   ]
  },
  {
   "cell_type": "code",
   "execution_count": 131,
   "id": "2f5096ed-d35d-4f5a-9b1a-2e3d20be799f",
   "metadata": {},
   "outputs": [
    {
     "name": "stdout",
     "output_type": "stream",
     "text": [
      "Correlation coefficients with CGPA:\n",
      "Depression: 0.0418074033740781\n",
      "Anxiety: 0.17294980554879058\n",
      "Panic_Attack: 0.042511095076114024\n"
     ]
    }
   ],
   "source": [
    "# calculate correlation coefficients\n",
    "\n",
    "corr_depression = df['CGPA'].corr(df[\"Depression\"] == \"Yes\")\n",
    "corr_anxiety = df['CGPA'].corr(df[\"Anxiety\"] == \"Yes\")\n",
    "corr_panic_attack = df['CGPA'].corr(df[\"Panic_Attack\"] == \"Yes\")\n",
    "\n",
    "print(\"Correlation coefficients with CGPA:\")\n",
    "print(\"Depression:\", corr_depression)\n",
    "print(\"Anxiety:\", corr_anxiety)\n",
    "print(\"Panic_Attack:\", corr_panic_attack)"
   ]
  },
  {
   "cell_type": "markdown",
   "id": "39d19a54-3547-4e4f-9193-912351468e63",
   "metadata": {},
   "source": [
    "- Depression: 0.0418 (very weak positive correlation) - A slight, almost negligible association between CGPA and Depression.\n",
    "\n",
    "- Anxiety: 0.1729 (weak positive correlation) - A somewhat stronger, but still relatively weak, association between CGPA and Anxiety.\n",
    "\n",
    "- Panic Attack: 0.0425 (very weak positive correlation) - Similar to Depression, a very weak association with CGPA.\n",
    "\n",
    "These correlations suggest that:\n",
    "\n",
    "    - CGPA has a very weak association with Depression and Panic Attack.\n",
    "    - CGPA has a slightly stronger, but still relatively weak, association with Anxiety.\n"
   ]
  },
  {
   "cell_type": "raw",
   "id": "721a14a6-9cf7-41cd-b9cf-89f8952fa120",
   "metadata": {},
   "source": []
  },
  {
   "cell_type": "markdown",
   "id": "6e74efe1-7128-40fa-b8f4-c6d1525bb613",
   "metadata": {},
   "source": [
    "### Correlation coefficients with Age"
   ]
  },
  {
   "cell_type": "code",
   "execution_count": 132,
   "id": "4f878b80-59f5-4a02-a9cd-c2fd80a58086",
   "metadata": {},
   "outputs": [
    {
     "name": "stdout",
     "output_type": "stream",
     "text": [
      "Correlation coefficients with Age:\n",
      "Depression: -0.06426947384512942\n",
      "Anxiety: -0.08576352358409672\n",
      "Panic_Attack: 0.06234703626135241\n"
     ]
    }
   ],
   "source": [
    "# calculate correlation coefficients\n",
    "\n",
    "corr_depression = df['Age'].corr(df[\"Depression\"] == \"Yes\")\n",
    "corr_anxiety = df['Age'].corr(df[\"Anxiety\"] == \"Yes\")\n",
    "corr_panic_attack = df['Age'].corr(df[\"Panic_Attack\"] == \"Yes\")\n",
    "\n",
    "print(\"Correlation coefficients with Age:\")\n",
    "print(\"Depression:\", corr_depression)\n",
    "print(\"Anxiety:\", corr_anxiety)\n",
    "print(\"Panic_Attack:\", corr_panic_attack)"
   ]
  },
  {
   "cell_type": "markdown",
   "id": "6dc1d402-a558-4c58-a3c9-d1e89fa79e1c",
   "metadata": {},
   "source": [
    "- Depression: -0.0643 (weak negative correlation)\n",
    "    - As Age increases, Depression tends to decrease (very slightly).\n",
    "    - The negative sign indicates an inverse relationship.\n",
    "\n",
    "- Anxiety: -0.0858 (weak negative correlation)\n",
    "    - Similar to Depression, as Age increases, Anxiety tends to decrease (slightly).\n",
    "    - The negative sign indicates an inverse relationship.\n",
    "\n",
    "- Panic Attack: 0.0623 (very weak positive correlation)\n",
    "    - As Age increases, Panic Attack tends to increase (very slightly).\n",
    "    - The positive sign indicates a direct relationship.\n",
    "\n",
    "- Age has a weak negative correlation with Depression and Anxiety, suggesting that older individuals tend to experience slightly lower levels of Depression and Anxiety.\n",
    "- Age has a very weak positive correlation with Panic Attack, suggesting that older individuals tend to experience slightly higher levels of Panic Attack.\n"
   ]
  },
  {
   "cell_type": "raw",
   "id": "d385e76f-c045-45b0-9680-dff63133c871",
   "metadata": {},
   "source": []
  },
  {
   "cell_type": "markdown",
   "id": "679f4492-868b-46d6-9c42-89cf65a824ac",
   "metadata": {},
   "source": [
    "### Correlation coefficients with Study_Year"
   ]
  },
  {
   "cell_type": "code",
   "execution_count": 133,
   "id": "e1405815-c360-4394-9cbc-a8526ddb69a2",
   "metadata": {},
   "outputs": [
    {
     "name": "stdout",
     "output_type": "stream",
     "text": [
      "Correlation coefficients with Study_Year:\n",
      "Depression: -0.020192170290909098\n",
      "Anxiety: -0.020962370661690932\n",
      "Panic_Attack: -0.02175419686148442\n"
     ]
    }
   ],
   "source": [
    "# Let's Convert the categorical data into numerical data\n",
    "df['Study_Year'] = df['Study_Year'].replace(['Year 1', 'Year 2', 'Year 3', 'Year 4'], [1, 2, 3, 4])\n",
    "\n",
    "\n",
    "# calculate correlation coefficients\n",
    "\n",
    "corr_depression = df['Study_Year'].corr(df[\"Depression\"] == \"Yes\")\n",
    "corr_anxiety = df['Study_Year'].corr(df[\"Anxiety\"] == \"Yes\")\n",
    "corr_panic_attack = df['Study_Year'].corr(df[\"Panic_Attack\"] == \"Yes\")\n",
    "\n",
    "print(\"Correlation coefficients with Study_Year:\")\n",
    "print(\"Depression:\", corr_depression)\n",
    "print(\"Anxiety:\", corr_anxiety)\n",
    "print(\"Panic_Attack:\", corr_panic_attack)"
   ]
  },
  {
   "cell_type": "markdown",
   "id": "3e1b348e-58d1-4a27-a302-a1be74f4d883",
   "metadata": {},
   "source": [
    "- Depression: -0.0202 (very weak negative correlation)\n",
    "    - As Study_Year increases (i.e., academic progress), Depression tends to decrease (very slightly).\n",
    "    - The negative sign indicates an inverse relationship.\n",
    "\n",
    "- Anxiety: -0.0210 (very weak negative correlation)\n",
    "    - Similar to Depression, as Study_Year increases, Anxiety tends to decrease (very slightly).\n",
    "    - The negative sign indicates an inverse relationship.\n",
    "\n",
    "- Panic Attack: -0.0218 (very weak negative correlation)\n",
    "    - As Study_Year increases, Panic Attack tends to decrease (very slightly).\n",
    "    - The negative sign indicates an inverse relationship.\n",
    "\n",
    "\n",
    "- Study_Year has a very weak negative correlation with all three mental health conditions.\n",
    "- This suggests that as academic progress increases, the severity of Depression, Anxiety, and Panic Attack tends to decrease slightly.\n"
   ]
  },
  {
   "cell_type": "raw",
   "id": "fbb120eb-a13b-4aad-b309-6d800e915aa3",
   "metadata": {},
   "source": []
  },
  {
   "cell_type": "markdown",
   "id": "78d4c233-15a6-41f0-832f-8b1d5256b193",
   "metadata": {},
   "source": [
    "### Correlation coefficients with Marital_Status"
   ]
  },
  {
   "cell_type": "code",
   "execution_count": 134,
   "id": "d730003c-1a99-4058-b683-885791f0653f",
   "metadata": {},
   "outputs": [],
   "source": [
    "# Define a mapping function to convert 'Yes' to 1 and 'No' to 0\n",
    "\n",
    "def convert_to_binary(value):\n",
    "    if value == 'Yes':\n",
    "        return 1\n",
    "    elif value == 'No':\n",
    "        return 0\n",
    "    else:\n",
    "        return value  # Handle other values if present\n",
    "\n",
    "# Convert 'Depression', 'Anxiety', and 'Panic Attack' columns to binary form\n",
    "\n",
    "df['Marital_Status_Updated'] = df['Marital_Status'].map(convert_to_binary)\n"
   ]
  },
  {
   "cell_type": "code",
   "execution_count": 135,
   "id": "294e490d-b1b8-477a-9d8f-6f3a153d9e63",
   "metadata": {},
   "outputs": [
    {
     "data": {
      "text/plain": [
       "Marital_Status_Updated\n",
       "0    85\n",
       "1    16\n",
       "Name: count, dtype: int64"
      ]
     },
     "execution_count": 135,
     "metadata": {},
     "output_type": "execute_result"
    }
   ],
   "source": [
    "# checking if conversion is effected\n",
    "df['Marital_Status_Updated'].value_counts()"
   ]
  },
  {
   "cell_type": "code",
   "execution_count": 136,
   "id": "542a883d-3de2-4c16-ad85-a570182e1f84",
   "metadata": {},
   "outputs": [
    {
     "name": "stdout",
     "output_type": "stream",
     "text": [
      "Correlation coefficients with Marital_Status_Updated:\n",
      "Depression: 0.5957835036263401\n",
      "Anxiety: 0.09260646155416155\n",
      "Panic_Attack: 0.2759091846219515\n"
     ]
    }
   ],
   "source": [
    "# calculate correlation coefficients\n",
    "\n",
    "corr_depression = df['Marital_Status_Updated'].corr(df[\"Depression\"] == \"Yes\")\n",
    "corr_anxiety = df['Marital_Status_Updated'].corr(df[\"Anxiety\"] == \"Yes\")\n",
    "corr_panic_attack = df['Marital_Status_Updated'].corr(df[\"Panic_Attack\"] == \"Yes\")\n",
    "\n",
    "print(\"Correlation coefficients with Marital_Status_Updated:\")\n",
    "print(\"Depression:\", corr_depression)\n",
    "print(\"Anxiety:\", corr_anxiety)\n",
    "print(\"Panic_Attack:\", corr_panic_attack)"
   ]
  },
  {
   "cell_type": "markdown",
   "id": "69be8291-7aed-498b-aca4-6e8997c40613",
   "metadata": {},
   "source": [
    "- Depression: 0.5958 (strong positive correlation)\n",
    "    - As Marital_Status_Updated changes (e.g., from single to married), Depression tends to increase (substantially).\n",
    "    - The positive sign indicates a direct relationship.\n",
    "\n",
    "- Anxiety: 0.0926 (weak positive correlation)\n",
    "    - As Marital_Status_Updated changes, Anxiety tends to increase (slightly).\n",
    "    - The positive sign indicates a direct relationship.\n",
    "\n",
    "- Panic Attack: 0.2759 (moderate positive correlation)\n",
    "    - As Marital_Status_Updated changes, Panic Attack tends to increase (moderately).\n",
    "    - The positive sign indicates a direct relationship.\n",
    "\n",
    "\n",
    "    - Marital Status has a strong positive correlation with Depression, indicating that changes in marital status are associated with substantial increases in Depression.\n",
    "    - Marital Status has a weak positive correlation with Anxiety and a moderate positive correlation with Panic Attack, indicating smaller associations with these conditions.\n",
    "\n",
    "- As Marital Status changes (e.g., from single to married), Depression tends to increase (substantially).\n",
    "- The positive sign indicates a direct relationship.\n"
   ]
  },
  {
   "cell_type": "raw",
   "id": "6600268b-352e-4997-8d15-854bd6d3ff21",
   "metadata": {},
   "source": []
  },
  {
   "cell_type": "markdown",
   "id": "6652dd0d-56ff-4839-b8f4-1b4b4754ebec",
   "metadata": {},
   "source": [
    "### Correlation coefficients with Gender"
   ]
  },
  {
   "cell_type": "code",
   "execution_count": 137,
   "id": "5dd82471-b63e-46bf-a43b-37b9ebbf7ece",
   "metadata": {},
   "outputs": [],
   "source": [
    "# Define a mapping function to convert 'Male' to 1 and 'Female' to 0\n",
    "\n",
    "def convert_to_binary(value):\n",
    "    if value == 'Male':\n",
    "        return 1\n",
    "    elif value == 'Female':\n",
    "        return 0\n",
    "    else:\n",
    "        return value  # Handle other values if present\n",
    "\n",
    "# Convert 'Gender' columns to binary form\n",
    "\n",
    "df['Gender_Updated'] = df['Gender'].map(convert_to_binary)\n"
   ]
  },
  {
   "cell_type": "code",
   "execution_count": 138,
   "id": "62073d92-a0fa-4889-ba86-c58b0451266b",
   "metadata": {},
   "outputs": [
    {
     "data": {
      "text/plain": [
       "Gender_Updated\n",
       "0    75\n",
       "1    26\n",
       "Name: count, dtype: int64"
      ]
     },
     "execution_count": 138,
     "metadata": {},
     "output_type": "execute_result"
    }
   ],
   "source": [
    "# checking if conversion is effected\n",
    "df['Gender_Updated'].value_counts()"
   ]
  },
  {
   "cell_type": "code",
   "execution_count": 139,
   "id": "c8f9e23c-d534-4474-bf66-1f4667073d7f",
   "metadata": {},
   "outputs": [
    {
     "name": "stdout",
     "output_type": "stream",
     "text": [
      "Correlation coefficients with Gender_Updated:\n",
      "Depression: -0.14323537452868448\n",
      "Anxiety: 0.05978281757523427\n",
      "Panic_Attack: -0.02390238692549062\n"
     ]
    }
   ],
   "source": [
    "# calculate correlation coefficients\n",
    "\n",
    "corr_depression = df['Gender_Updated'].corr(df[\"Depression\"] == \"Yes\")\n",
    "corr_anxiety = df['Gender_Updated'].corr(df[\"Anxiety\"] == \"Yes\")\n",
    "corr_panic_attack = df['Gender_Updated'].corr(df[\"Panic_Attack\"] == \"Yes\")\n",
    "\n",
    "print(\"Correlation coefficients with Gender_Updated:\")\n",
    "print(\"Depression:\", corr_depression)\n",
    "print(\"Anxiety:\", corr_anxiety)\n",
    "print(\"Panic_Attack:\", corr_panic_attack)"
   ]
  },
  {
   "cell_type": "markdown",
   "id": "7f30a700-e1d7-4434-8485-81a28763afe3",
   "metadata": {},
   "source": [
    "- Depression: -0.1432 (weak negative correlation)\n",
    "    - As Gender_Updated changes (e.g., from male to female), Depression tends to decrease (slightly).\n",
    "    - The negative sign indicates an inverse relationship, suggesting that females tend to experience more depression than males.\n",
    "\n",
    "- Anxiety: 0.0598 (very weak positive correlation)\n",
    "    - As Gender_Updated changes, Anxiety tends to increase (very slightly).\n",
    "    - The positive sign indicates a direct relationship, suggesting that females tend to experience slightly more anxiety than males.\n",
    "\n",
    "- Panic Attack: -0.0239 (very weak negative correlation)\n",
    "    - As Gender_Updated changes, Panic Attack tends to decrease (very slightly).\n",
    "    - The negative sign indicates an inverse relationship, suggesting that females tend to experience slightly fewer panic attacks than males."
   ]
  },
  {
   "cell_type": "raw",
   "id": "3855bd66-2184-4fc1-876f-7368c4623839",
   "metadata": {},
   "source": []
  },
  {
   "cell_type": "markdown",
   "id": "4c7753cc-aa5a-433e-acac-d326c334b919",
   "metadata": {},
   "source": [
    "### Insightful Report:"
   ]
  },
  {
   "cell_type": "markdown",
   "id": "f61dae0e-ee91-4722-8db4-49295c0d8e98",
   "metadata": {},
   "source": [
    "This analysis highlights the complex relationships between mental health conditions and demographic factors. While some correlations are weak or very weak, others reveal notable associations:\n",
    "\n",
    "- Marital status changes have a substantial impact on Depression, suggesting support systems and relationship dynamics play a crucial role in mental well-being.\n",
    "\n",
    "- Age has a slight inverse relationship with Depression and Anxiety, indicating potential benefits from aging and life experience.\n",
    "\n",
    "- Gender influences Depression, with females experiencing higher levels, emphasizing the need for gender-sensitive support.\n",
    "\n",
    "- Academic performance and progress have limited associations with mental health, suggesting factors beyond academics contribute to well-being."
   ]
  },
  {
   "cell_type": "markdown",
   "id": "ce6c94f1-0011-41a7-bbe6-0d3feb72f6ed",
   "metadata": {},
   "source": [
    "### Conclusion:"
   ]
  },
  {
   "cell_type": "markdown",
   "id": "54dbdfac-da34-4250-af95-83cbe300a735",
   "metadata": {},
   "source": [
    "\n",
    "This analysis examined the correlation coefficients between mental health conditions (Depression, Anxiety, Panic Attack) and various demographic factors (CGPA, Age, Study_Year, Marital_Status_Updated, Gender_Updated). The key findings are:\n",
    "\n",
    "- CGPA: Weak correlations with Depression, Anxiety, and Panic Attack, suggesting academic performance has a limited impact on mental health.\n",
    "\n",
    "- Age: Weak negative correlations with Depression and Anxiety, indicating a slight decrease in severity with increasing age. Panic Attack shows a weak positive correlation, suggesting a slight increase with age.\n",
    "\n",
    "- Study_Year: Very weak negative correlations with all three conditions, indicating academic progress has a minimal impact on mental health.\n",
    "\n",
    "- Marital_Status_Updated: Strong positive correlation with Depression and moderate positive correlations with Anxiety and Panic Attack, suggesting significant associations between marital status changes and mental health.\n",
    "\n",
    "- Gender_Updated: Weak negative correlation with Depression, indicating females tend to experience more depression than males. Anxiety and Panic Attack show very weak correlations, suggesting minimal associations with gender.\n"
   ]
  },
  {
   "cell_type": "raw",
   "id": "76eadc5f-4c54-47ea-a51a-b5d776b36eff",
   "metadata": {},
   "source": []
  }
 ],
 "metadata": {
  "kernelspec": {
   "display_name": "Python 3 (ipykernel)",
   "language": "python",
   "name": "python3"
  },
  "language_info": {
   "codemirror_mode": {
    "name": "ipython",
    "version": 3
   },
   "file_extension": ".py",
   "mimetype": "text/x-python",
   "name": "python",
   "nbconvert_exporter": "python",
   "pygments_lexer": "ipython3",
   "version": "3.11.7"
  }
 },
 "nbformat": 4,
 "nbformat_minor": 5
}
